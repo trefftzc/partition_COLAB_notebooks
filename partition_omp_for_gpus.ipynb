{
  "nbformat": 4,
  "nbformat_minor": 0,
  "metadata": {
    "colab": {
      "provenance": [],
      "gpuType": "T4",
      "authorship_tag": "ABX9TyMk/GohkoyM+18vDt/I5usX",
      "include_colab_link": true
    },
    "kernelspec": {
      "name": "python3",
      "display_name": "Python 3"
    },
    "language_info": {
      "name": "python"
    },
    "accelerator": "GPU"
  },
  "cells": [
    {
      "cell_type": "markdown",
      "metadata": {
        "id": "view-in-github",
        "colab_type": "text"
      },
      "source": [
        "<a href=\"https://colab.research.google.com/github/trefftzc/partition_COLAB_notebooks/blob/main/partition_omp_for_gpus.ipynb\" target=\"_parent\"><img src=\"https://colab.research.google.com/assets/colab-badge.svg\" alt=\"Open In Colab\"/></a>"
      ]
    },
    {
      "cell_type": "markdown",
      "source": [
        "## OpenMP for GPUs\n",
        "\n",
        "OpenMP can be used to program GPUs.\n",
        "\n",
        "The key pragmas that can be used to parallelize code so that it uses a GPU are:\n",
        "\n",
        "#pragma omp target\n",
        "\n",
        "which indicates to the compiler that the developer wants to\n",
        "use the GPU for the code that follows and\n",
        "\n",
        "#pragma omp loop\n",
        "\n",
        "loop tells the compiler that the for statement that follows\n",
        "should be executed on the GPU."
      ],
      "metadata": {
        "id": "XkAnkgBcoKNs"
      }
    },
    {
      "cell_type": "code",
      "execution_count": 7,
      "metadata": {
        "colab": {
          "base_uri": "https://localhost:8080/"
        },
        "id": "l1SQN4lhkUS3",
        "outputId": "0468392b-69c9-4eb5-c518-a5c4125e1ebc"
      },
      "outputs": [
        {
          "output_type": "stream",
          "name": "stdout",
          "text": [
            "Overwriting partition_omp_gpu.c\n"
          ]
        }
      ],
      "source": [
        "%%writefile partition_omp_gpu.c\n",
        "/*\n",
        " *\n",
        " * Solve the Partition problem\n",
        " * https://en.wikipedia.org/wiki/Partition_problem\n",
        " * This code works for multisets of up to 32 elements\n",
        " * The input is expected to be as follows:\n",
        " * The first line will contain n, the number of elements in the multiset\n",
        " * The remaining n lines will contain the n values, one per line\n",
        " */\n",
        "#include <stdio.h>\n",
        "#include <stdlib.h>\n",
        "#include <omp.h>\n",
        "\n",
        "// This functions evaluate a partition of the multiset.\n",
        "// The values in the multiset are passed as a parameter in array\n",
        "// n is the size of the multiset\n",
        "// value is an integer value. The binary code of value\n",
        "// encodes a partition:\n",
        "// One partition corresponds to the bits that are 0 in the binary encoding of value\n",
        "// The other partition corresponds to the bits that are 1 in the binary encoding of value\n",
        "int evaluatePartition(  int value, int n, int *array) {\n",
        "  int sum0s = 0;\n",
        "  int sum1s = 0;\n",
        "  unsigned int mask = 1;\n",
        "  for(int i = 0;i < n;i++) {\n",
        "    if ((mask & value) != 0) {\n",
        "      sum1s = sum1s + array[i];\n",
        "    }\n",
        "    else {\n",
        "      sum0s = sum0s + array[i];\n",
        "    }\n",
        "    mask = mask * 2;\n",
        "  }\n",
        "  if (sum0s == sum1s)\n",
        "     return value;\n",
        "  else\n",
        "     return 0;\n",
        "}\n",
        "\n",
        "void printResults(unsigned int value,int n,int *array)\n",
        "{\n",
        "  printf(\"Solution:\\n\");\n",
        "  printf(\"First partition: \") ;\n",
        "  unsigned int mask = 1;\n",
        "  int sum = 0;\n",
        "  for(int i = 0;i < n;i++) {\n",
        "    if ((mask & value) != 0) {\n",
        "      printf(\"%d \",array[i]);\n",
        "      sum = sum + array[i];\n",
        "    }\n",
        "    mask = mask * 2;\n",
        "  }\n",
        "  printf(\" sum: %d \\n\",sum);\n",
        "  printf(\"Second partition: \") ;\n",
        "  mask = 1;\n",
        "  sum = 0;\n",
        "  for(int i = 0;i < n;i++) {\n",
        "    if ((mask & value) == 0) {\n",
        "      printf(\"%d \",array[i]);\n",
        "      sum = sum + array[i];\n",
        "    }\n",
        "    mask = mask * 2;\n",
        "  }\n",
        "  printf(\" sum: %d \\n\",sum);\n",
        "}\n",
        "\n",
        "// The main function\n",
        "int main() {\n",
        "\n",
        "  int n;\n",
        "  int *array;\n",
        "// The format of the input is\n",
        "// an integer value n with the size of the multiset\n",
        "// n integer values with the multiset\n",
        "  scanf(\"%d\",&n);\n",
        "\n",
        "  printf(\"The value of n is %d\\n\",n);\n",
        "  array = (int *) malloc (n * sizeof(int));\n",
        "  for(int i = 0;i < n;i++) {\n",
        "    scanf(\"%d\",&array[i]);\n",
        "  }\n",
        "  printf(\"The read values are: \\n\");\n",
        "  for(int i = 0;i < n;i++) {\n",
        "    printf(\"%d \",array[i]);\n",
        "  }\n",
        "  printf(\"\\n\");\n",
        "// Calculate the set of the power set\n",
        "  unsigned int nPartitions = 1;\n",
        "  for(int i = 0;i < n;i++) {\n",
        "    nPartitions = nPartitions * 2;\n",
        "  }\n",
        "  // printf(\"The number of possible partitions is: %d\\n\",nPartitions);\n",
        "  // Only half of all possible partitions need be examined\n",
        "  // The second half is symmetrical to the first half\n",
        "  nPartitions = nPartitions / 2;\n",
        "  int solutionFound = 0;\n",
        "  int solution = -1;\n",
        "  int *results;\n",
        "  results = (int *) malloc (nPartitions*sizeof(int));\n",
        "  #pragma omp target\n",
        "  #pragma omp loop\n",
        "  for(int i = 1;i < (nPartitions);i++) {\n",
        "    results[i] = evaluatePartition(i,n,array);\n",
        "  }\n",
        "\n",
        "  for(int i = 0;i < nPartitions;i++) {\n",
        "    if (results[i] > 0) {\n",
        "      solutionFound = 1;\n",
        "      solution = i;\n",
        "    }\n",
        "  }\n",
        "  if (solutionFound) {\n",
        "    printResults(solution, n, array);\n",
        "  }\n",
        "  else {\n",
        "    printf(\"No solution was found.\");\n",
        "  }\n",
        "  return 0;\n",
        "}\n"
      ]
    },
    {
      "cell_type": "code",
      "source": [
        "!cc partition_omp_gpu.c -o partition_omp_gpu -fopenmp -O3"
      ],
      "metadata": {
        "colab": {
          "base_uri": "https://localhost:8080/"
        },
        "id": "rUVEDJQXlN1L",
        "outputId": "a1b3a169-49be-4bc6-c01b-80a38470197d"
      },
      "execution_count": 8,
      "outputs": [
        {
          "output_type": "stream",
          "name": "stdout",
          "text": [
            "\u001b[01m\u001b[Kpartition_omp_gpu.c:\u001b[m\u001b[K In function ‘\u001b[01m\u001b[Kmain\u001b[m\u001b[K’:\n",
            "\u001b[01m\u001b[Kpartition_omp_gpu.c:75:3:\u001b[m\u001b[K \u001b[01;35m\u001b[Kwarning: \u001b[m\u001b[Kignoring return value of ‘\u001b[01m\u001b[Kscanf\u001b[m\u001b[K’ declared with attribute ‘\u001b[01m\u001b[Kwarn_unused_result\u001b[m\u001b[K’ [\u001b[01;35m\u001b[K\u001b]8;;https://gcc.gnu.org/onlinedocs/gcc/Warning-Options.html#index-Wunused-result\u0007-Wunused-result\u001b]8;;\u0007\u001b[m\u001b[K]\n",
            "   75 |   \u001b[01;35m\u001b[Kscanf(\"%d\",&n)\u001b[m\u001b[K;\n",
            "      |   \u001b[01;35m\u001b[K^~~~~~~~~~~~~~\u001b[m\u001b[K\n",
            "\u001b[01m\u001b[Kpartition_omp_gpu.c:80:5:\u001b[m\u001b[K \u001b[01;35m\u001b[Kwarning: \u001b[m\u001b[Kignoring return value of ‘\u001b[01m\u001b[Kscanf\u001b[m\u001b[K’ declared with attribute ‘\u001b[01m\u001b[Kwarn_unused_result\u001b[m\u001b[K’ [\u001b[01;35m\u001b[K\u001b]8;;https://gcc.gnu.org/onlinedocs/gcc/Warning-Options.html#index-Wunused-result\u0007-Wunused-result\u001b]8;;\u0007\u001b[m\u001b[K]\n",
            "   80 |     \u001b[01;35m\u001b[Kscanf(\"%d\",&array[i])\u001b[m\u001b[K;\n",
            "      |     \u001b[01;35m\u001b[K^~~~~~~~~~~~~~~~~~~~~\u001b[m\u001b[K\n"
          ]
        }
      ]
    },
    {
      "cell_type": "code",
      "source": [
        "%%writefile test_with_solution_24.txt\n",
        "24\n",
        "1 1 1 1 1 1 1 1 1 1 1 1 1 1 1 1 1 1 1 1 1 1 1 23"
      ],
      "metadata": {
        "colab": {
          "base_uri": "https://localhost:8080/"
        },
        "id": "9_tRRBpoldn7",
        "outputId": "bc6b4518-b9f1-4c92-e2e2-8851c58b62e4"
      },
      "execution_count": 9,
      "outputs": [
        {
          "output_type": "stream",
          "name": "stdout",
          "text": [
            "Overwriting test_with_solution_24.txt\n"
          ]
        }
      ]
    },
    {
      "cell_type": "code",
      "source": [
        "!time ./partition_omp_gpu < test_with_solution_24.txt"
      ],
      "metadata": {
        "colab": {
          "base_uri": "https://localhost:8080/"
        },
        "id": "T2lzml_flnD8",
        "outputId": "d6319171-07f8-4a44-84e8-b37a535a64d1"
      },
      "execution_count": 10,
      "outputs": [
        {
          "output_type": "stream",
          "name": "stdout",
          "text": [
            "The value of n is 24\n",
            "The read values are: \n",
            "1 1 1 1 1 1 1 1 1 1 1 1 1 1 1 1 1 1 1 1 1 1 1 23 \n",
            "Solution:\n",
            "First partition: 1 1 1 1 1 1 1 1 1 1 1 1 1 1 1 1 1 1 1 1 1 1 1  sum: 23 \n",
            "Second partition: 23  sum: 23 \n",
            "\n",
            "real\t0m0.557s\n",
            "user\t0m0.533s\n",
            "sys\t0m0.021s\n"
          ]
        }
      ]
    },
    {
      "cell_type": "code",
      "source": [
        "%%writefile test_with_no_solution_24.txt\n",
        "24\n",
        "1 1 1 1 1 1 1 1 1 1 1 1 1 1 1 1 1 1 1 1 1 1 1 32"
      ],
      "metadata": {
        "colab": {
          "base_uri": "https://localhost:8080/"
        },
        "id": "crokxsJenc7z",
        "outputId": "63846b2c-38dd-4a31-ee26-dc0fb3a3213a"
      },
      "execution_count": 11,
      "outputs": [
        {
          "output_type": "stream",
          "name": "stdout",
          "text": [
            "Overwriting test_with_no_solution_24.txt\n"
          ]
        }
      ]
    },
    {
      "cell_type": "code",
      "source": [
        "!time ./partition_omp_gpu < test_with_no_solution_24.txt"
      ],
      "metadata": {
        "colab": {
          "base_uri": "https://localhost:8080/"
        },
        "id": "u68OosEuniLD",
        "outputId": "140584a6-229c-4810-c0d4-fda717566646"
      },
      "execution_count": 12,
      "outputs": [
        {
          "output_type": "stream",
          "name": "stdout",
          "text": [
            "The value of n is 24\n",
            "The read values are: \n",
            "1 1 1 1 1 1 1 1 1 1 1 1 1 1 1 1 1 1 1 1 1 1 1 32 \n",
            "No solution was found.\n",
            "real\t0m0.556s\n",
            "user\t0m0.532s\n",
            "sys\t0m0.022s\n"
          ]
        }
      ]
    }
  ]
}