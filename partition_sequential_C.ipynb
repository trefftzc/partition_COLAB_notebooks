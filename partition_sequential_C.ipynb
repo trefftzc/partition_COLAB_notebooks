{
  "nbformat": 4,
  "nbformat_minor": 0,
  "metadata": {
    "colab": {
      "provenance": [],
      "authorship_tag": "ABX9TyOcFQ2K75g+vnj450K/5cTc",
      "include_colab_link": true
    },
    "kernelspec": {
      "name": "python3",
      "display_name": "Python 3"
    },
    "language_info": {
      "name": "python"
    }
  },
  "cells": [
    {
      "cell_type": "markdown",
      "metadata": {
        "id": "view-in-github",
        "colab_type": "text"
      },
      "source": [
        "<a href=\"https://colab.research.google.com/github/trefftzc/partition_COLAB_notebooks/blob/main/partition_sequential_C.ipynb\" target=\"_parent\"><img src=\"https://colab.research.google.com/assets/colab-badge.svg\" alt=\"Open In Colab\"/></a>"
      ]
    },
    {
      "cell_type": "markdown",
      "source": [
        "# Solving the partition problem with a program in C"
      ],
      "metadata": {
        "id": "0xqOCAGtLVBy"
      }
    },
    {
      "cell_type": "code",
      "execution_count": 1,
      "metadata": {
        "colab": {
          "base_uri": "https://localhost:8080/"
        },
        "id": "zB2Wj0zjLULO",
        "outputId": "fe63c7df-4059-4cc2-eb6b-28fd508e0895"
      },
      "outputs": [
        {
          "output_type": "stream",
          "name": "stdout",
          "text": [
            "Writing sequentialPartition.c\n"
          ]
        }
      ],
      "source": [
        "%%writefile sequentialPartition.c\n",
        "/*\n",
        " * sequentialPartition.c\n",
        " * Solve the Partition problem sequentially.\n",
        " * https://en.wikipedia.org/wiki/Partition_problem\n",
        " * This code works for multisets of up to 32 elements\n",
        " * The input is expected to be as follows:\n",
        " * The first line will contain n, the number of elements in the multiset\n",
        " * The remaining n lines will contain the n values, one per line\n",
        " */\n",
        "#include <stdio.h>\n",
        "#include <stdlib.h>\n",
        "\n",
        "// This functions evaluate a partition of the multiset.\n",
        "// The values in the multiset are passed as a parameter in array\n",
        "// n is the size of the multiset\n",
        "// value is an integer value. The binary code of value\n",
        "// encodes a partition:\n",
        "// One partition corresponds to the bits that are 0 in the binary encoding of value\n",
        "// The other partition corresponds to the bits that are 1 in the binary encoding of value\n",
        "int evaluatePartition( unsigned int value, int n, int *array) {\n",
        "  int sum0s = 0;\n",
        "  int sum1s = 0;\n",
        "  unsigned int mask = 1;\n",
        "  for(int i = 0;i < n;i++) {\n",
        "    if ((mask & value) != 0) {\n",
        "      sum1s = sum1s + array[i];\n",
        "    }\n",
        "    else {\n",
        "      sum0s = sum0s + array[i];\n",
        "    }\n",
        "    mask = mask * 2;\n",
        "  }\n",
        "  if (sum0s == sum1s)\n",
        "     return 1;\n",
        "  else\n",
        "     return 0;\n",
        "}\n",
        "\n",
        "void printResults(unsigned int value,int n,int *array)\n",
        "{\n",
        "  printf(\"Solution:\\n\");\n",
        "  printf(\"First partition: \") ;\n",
        "  unsigned int mask = 1;\n",
        "  int sum = 0;\n",
        "  for(int i = 0;i < n;i++) {\n",
        "    if ((mask & value) != 0) {\n",
        "      printf(\"%d \",array[i]);\n",
        "      sum = sum + array[i];\n",
        "    }\n",
        "    mask = mask * 2;\n",
        "  }\n",
        "  printf(\" sum: %d \\n\",sum);\n",
        "  printf(\"Second partition: \") ;\n",
        "  mask = 1;\n",
        "  sum = 0;\n",
        "  for(int i = 0;i < n;i++) {\n",
        "    if ((mask & value) == 0) {\n",
        "      printf(\"%d \",array[i]);\n",
        "      sum = sum + array[i];\n",
        "    }\n",
        "    mask = mask * 2;\n",
        "  }\n",
        "  printf(\" sum: %d \\n\",sum);\n",
        "}\n",
        "\n",
        "// The main function\n",
        "int main() {\n",
        "\n",
        "  int n;\n",
        "  int *array;\n",
        "// The format of the input is\n",
        "// an integer value n with the size of the multiset\n",
        "// n integer values with the multiset\n",
        "  scanf(\"%d\",&n);\n",
        "\n",
        "  printf(\"The value of n is %d\\n\",n);\n",
        "  array = (int *) malloc (n * sizeof(int));\n",
        "  for(int i = 0;i < n;i++) {\n",
        "    scanf(\"%d\",&array[i]);\n",
        "  }\n",
        "  printf(\"The read values are: \\n\");\n",
        "  for(int i = 0;i < n;i++) {\n",
        "    printf(\"%d \",array[i]);\n",
        "  }\n",
        "  printf(\"\\n\");\n",
        "// Calculate the set of the power set\n",
        "  unsigned int nPartitions = 1;\n",
        "  for(int i = 0;i < n;i++) {\n",
        "    nPartitions = nPartitions * 2;\n",
        "  }\n",
        "  // printf(\"The number of possible partitions is: %d\\n\",nPartitions);\n",
        "  // Only half of all possible partitions need be examined\n",
        "  // The second half is symmetrical to the first half\n",
        "  nPartitions = nPartitions / 2;\n",
        " int solutionFound = 0;\n",
        "  int solution = -1;\n",
        "  for(unsigned int i = 1;i < (nPartitions);i++) {\n",
        "    if (evaluatePartition( i,  n, array) == 1) {\n",
        "      solutionFound = 1;\n",
        "      solution = i;\n",
        "      break;\n",
        "    }\n",
        "  }\n",
        "  if (solutionFound) {\n",
        "    printResults(solution, n, array);\n",
        "  }\n",
        "  else {\n",
        "    printf(\"No solution was found.\");\n",
        "  }\n",
        "  return 0;\n",
        "}\n"
      ]
    },
    {
      "cell_type": "markdown",
      "source": [
        "This is a test file that has a solution"
      ],
      "metadata": {
        "id": "kprtMkGNMmPh"
      }
    },
    {
      "cell_type": "code",
      "source": [
        "\n",
        "%%writefile testFile24.Text\n",
        "24\n",
        "1\n",
        "1\n",
        "1\n",
        "1\n",
        "1\n",
        "1\n",
        "1\n",
        "1\n",
        "1\n",
        "1\n",
        "1\n",
        "1\n",
        "1\n",
        "1\n",
        "1\n",
        "1\n",
        "1\n",
        "1\n",
        "1\n",
        "1\n",
        "1\n",
        "1\n",
        "1\n",
        "23\n"
      ],
      "metadata": {
        "colab": {
          "base_uri": "https://localhost:8080/"
        },
        "id": "SwNUBUEuMN_M",
        "outputId": "9c111693-8d0e-4df7-b6e9-21050c5455ee"
      },
      "execution_count": 3,
      "outputs": [
        {
          "output_type": "stream",
          "name": "stdout",
          "text": [
            "Writing testFile24.Text\n"
          ]
        }
      ]
    },
    {
      "cell_type": "markdown",
      "source": [
        "Compiling the code, and running the code with test file"
      ],
      "metadata": {
        "id": "rss3OjGIM645"
      }
    },
    {
      "cell_type": "code",
      "source": [
        "!gcc sequentialPartition.c -o sequentialPartition -O3\n",
        "!time ./sequentialPartition < testFile24.Text"
      ],
      "metadata": {
        "colab": {
          "base_uri": "https://localhost:8080/"
        },
        "id": "8a1NmOPsNAcl",
        "outputId": "9842f373-2979-4f5a-9b20-666a961a3c7e"
      },
      "execution_count": 5,
      "outputs": [
        {
          "output_type": "stream",
          "name": "stdout",
          "text": [
            "\u001b[01m\u001b[KsequentialPartition.c:\u001b[m\u001b[K In function ‘\u001b[01m\u001b[Kmain\u001b[m\u001b[K’:\n",
            "\u001b[01m\u001b[KsequentialPartition.c:72:3:\u001b[m\u001b[K \u001b[01;35m\u001b[Kwarning: \u001b[m\u001b[Kignoring return value of ‘\u001b[01m\u001b[Kscanf\u001b[m\u001b[K’ declared with attribute ‘\u001b[01m\u001b[Kwarn_unused_result\u001b[m\u001b[K’ [\u001b[01;35m\u001b[K\u001b]8;;https://gcc.gnu.org/onlinedocs/gcc/Warning-Options.html#index-Wunused-result\u0007-Wunused-result\u001b]8;;\u0007\u001b[m\u001b[K]\n",
            "   72 |   \u001b[01;35m\u001b[Kscanf(\"%d\",&n)\u001b[m\u001b[K;\n",
            "      |   \u001b[01;35m\u001b[K^~~~~~~~~~~~~~\u001b[m\u001b[K\n",
            "\u001b[01m\u001b[KsequentialPartition.c:77:5:\u001b[m\u001b[K \u001b[01;35m\u001b[Kwarning: \u001b[m\u001b[Kignoring return value of ‘\u001b[01m\u001b[Kscanf\u001b[m\u001b[K’ declared with attribute ‘\u001b[01m\u001b[Kwarn_unused_result\u001b[m\u001b[K’ [\u001b[01;35m\u001b[K\u001b]8;;https://gcc.gnu.org/onlinedocs/gcc/Warning-Options.html#index-Wunused-result\u0007-Wunused-result\u001b]8;;\u0007\u001b[m\u001b[K]\n",
            "   77 |     \u001b[01;35m\u001b[Kscanf(\"%d\",&array[i])\u001b[m\u001b[K;\n",
            "      |     \u001b[01;35m\u001b[K^~~~~~~~~~~~~~~~~~~~~\u001b[m\u001b[K\n",
            "The value of n is 24\n",
            "The read values are: \n",
            "1 1 1 1 1 1 1 1 1 1 1 1 1 1 1 1 1 1 1 1 1 1 1 23 \n",
            "Solution:\n",
            "First partition: 1 1 1 1 1 1 1 1 1 1 1 1 1 1 1 1 1 1 1 1 1 1 1  sum: 23 \n",
            "Second partition: 23  sum: 23 \n",
            "\n",
            "real\t0m0.833s\n",
            "user\t0m0.818s\n",
            "sys\t0m0.003s\n"
          ]
        }
      ]
    },
    {
      "cell_type": "markdown",
      "source": [
        "Let's create other larger test files and see how long the program takes to execute with those larger files."
      ],
      "metadata": {
        "id": "-NBnwD7RNVO5"
      }
    },
    {
      "cell_type": "code",
      "source": [
        "%%writefile testFile25.Text\n",
        "25\n",
        "1\n",
        "1\n",
        "1\n",
        "1\n",
        "1\n",
        "1\n",
        "1\n",
        "1\n",
        "1\n",
        "1\n",
        "1\n",
        "1\n",
        "1\n",
        "1\n",
        "1\n",
        "1\n",
        "1\n",
        "1\n",
        "1\n",
        "1\n",
        "1\n",
        "1\n",
        "1\n",
        "1\n",
        "24"
      ],
      "metadata": {
        "colab": {
          "base_uri": "https://localhost:8080/"
        },
        "id": "ISbpb0WsNdAq",
        "outputId": "d5faf0c1-8884-4ef9-a949-76526830887e"
      },
      "execution_count": 10,
      "outputs": [
        {
          "output_type": "stream",
          "name": "stdout",
          "text": [
            "Overwriting testFile25.Text\n"
          ]
        }
      ]
    },
    {
      "cell_type": "code",
      "source": [
        "!time ./sequentialPartition < testFile25.Text"
      ],
      "metadata": {
        "colab": {
          "base_uri": "https://localhost:8080/"
        },
        "id": "PPCEODdZNiCw",
        "outputId": "acb813a4-da18-4e2f-b158-452856afde92"
      },
      "execution_count": 11,
      "outputs": [
        {
          "output_type": "stream",
          "name": "stdout",
          "text": [
            "The value of n is 25\n",
            "The read values are: \n",
            "1 1 1 1 1 1 1 1 1 1 1 1 1 1 1 1 1 1 1 1 1 1 1 1 24 \n",
            "Solution:\n",
            "First partition: 1 1 1 1 1 1 1 1 1 1 1 1 1 1 1 1 1 1 1 1 1 1 1 1  sum: 24 \n",
            "Second partition: 24  sum: 24 \n",
            "\n",
            "real\t0m1.655s\n",
            "user\t0m1.634s\n",
            "sys\t0m0.004s\n"
          ]
        }
      ]
    },
    {
      "cell_type": "code",
      "source": [
        "%%writefile testFile26.Text\n",
        "26\n",
        "1\n",
        "1\n",
        "1\n",
        "1\n",
        "1\n",
        "1\n",
        "1\n",
        "1\n",
        "1\n",
        "1\n",
        "1\n",
        "1\n",
        "1\n",
        "1\n",
        "1\n",
        "1\n",
        "1\n",
        "1\n",
        "1\n",
        "1\n",
        "1\n",
        "1\n",
        "1\n",
        "1\n",
        "1\n",
        "25"
      ],
      "metadata": {
        "colab": {
          "base_uri": "https://localhost:8080/"
        },
        "id": "I8ONMavhNvj5",
        "outputId": "a2a525c5-53c9-44bb-9fd5-d1b3e1d9d3d9"
      },
      "execution_count": 12,
      "outputs": [
        {
          "output_type": "stream",
          "name": "stdout",
          "text": [
            "Writing testFile26.Text\n"
          ]
        }
      ]
    },
    {
      "cell_type": "code",
      "source": [
        "!time ./sequentialPartition < testFile26.Text"
      ],
      "metadata": {
        "colab": {
          "base_uri": "https://localhost:8080/"
        },
        "id": "oMLxpQkyN0_G",
        "outputId": "1aa685c5-b936-43b5-99e9-b5597287be32"
      },
      "execution_count": 13,
      "outputs": [
        {
          "output_type": "stream",
          "name": "stdout",
          "text": [
            "The value of n is 26\n",
            "The read values are: \n",
            "1 1 1 1 1 1 1 1 1 1 1 1 1 1 1 1 1 1 1 1 1 1 1 1 1 25 \n",
            "Solution:\n",
            "First partition: 1 1 1 1 1 1 1 1 1 1 1 1 1 1 1 1 1 1 1 1 1 1 1 1 1  sum: 25 \n",
            "Second partition: 25  sum: 25 \n",
            "\n",
            "real\t0m3.386s\n",
            "user\t0m3.352s\n",
            "sys\t0m0.003s\n"
          ]
        }
      ]
    },
    {
      "cell_type": "code",
      "source": [
        "%%writefile testFile30.Text\n",
        "30\n",
        "1\n",
        "1\n",
        "1\n",
        "1\n",
        "1\n",
        "1\n",
        "1\n",
        "1\n",
        "1\n",
        "1\n",
        "1\n",
        "1\n",
        "1\n",
        "1\n",
        "1\n",
        "1\n",
        "1\n",
        "1\n",
        "1\n",
        "1\n",
        "1\n",
        "1\n",
        "1\n",
        "1\n",
        "1\n",
        "1\n",
        "1\n",
        "1\n",
        "1\n",
        "29"
      ],
      "metadata": {
        "colab": {
          "base_uri": "https://localhost:8080/"
        },
        "id": "vgWkwjiUOGuP",
        "outputId": "c119a388-2373-4181-e341-9605fa7e8dc4"
      },
      "execution_count": 14,
      "outputs": [
        {
          "output_type": "stream",
          "name": "stdout",
          "text": [
            "Writing testFile30.Text\n"
          ]
        }
      ]
    },
    {
      "cell_type": "code",
      "source": [
        "!time ./sequentialPartition < testFile30.Text"
      ],
      "metadata": {
        "colab": {
          "base_uri": "https://localhost:8080/"
        },
        "id": "GaM98qSCOPGu",
        "outputId": "7abe9fac-d8aa-4d3e-e3cd-b01bc29f2437"
      },
      "execution_count": 15,
      "outputs": [
        {
          "output_type": "stream",
          "name": "stdout",
          "text": [
            "The value of n is 30\n",
            "The read values are: \n",
            "1 1 1 1 1 1 1 1 1 1 1 1 1 1 1 1 1 1 1 1 1 1 1 1 1 1 1 1 1 29 \n",
            "Solution:\n",
            "First partition: 1 1 1 1 1 1 1 1 1 1 1 1 1 1 1 1 1 1 1 1 1 1 1 1 1 1 1 1 1  sum: 29 \n",
            "Second partition: 29  sum: 29 \n",
            "\n",
            "real\t1m0.021s\n",
            "user\t0m59.019s\n",
            "sys\t0m0.018s\n"
          ]
        }
      ]
    }
  ]
}