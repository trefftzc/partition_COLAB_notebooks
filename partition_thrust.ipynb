{
  "nbformat": 4,
  "nbformat_minor": 0,
  "metadata": {
    "colab": {
      "provenance": [],
      "gpuType": "T4",
      "authorship_tag": "ABX9TyOV3QxNWbusSzKAYUFhYmuh",
      "include_colab_link": true
    },
    "kernelspec": {
      "name": "python3",
      "display_name": "Python 3"
    },
    "language_info": {
      "name": "python"
    },
    "accelerator": "GPU"
  },
  "cells": [
    {
      "cell_type": "markdown",
      "metadata": {
        "id": "view-in-github",
        "colab_type": "text"
      },
      "source": [
        "<a href=\"https://colab.research.google.com/github/trefftzc/partition_COLAB_notebooks/blob/main/partition_thrust.ipynb\" target=\"_parent\"><img src=\"https://colab.research.google.com/assets/colab-badge.svg\" alt=\"Open In Colab\"/></a>"
      ]
    },
    {
      "cell_type": "markdown",
      "source": [
        "## Thrust\n",
        "\n",
        "Thrust is a C++ library that NVIDIA has created to simplify the programming of GPUs.\n",
        "\n",
        "The web site for Thrust is:\n",
        " https://developer.nvidia.com/thrust\n",
        "\n",
        " Thrust uses similar design principles to the STL library in C++.\n",
        "\n",
        " One of the most used classes in STL is the class vector.\n",
        "\n",
        " Thrust extends the class vector with two specialized classes:\n",
        "\n",
        " host_vector\n",
        "\n",
        " and\n",
        "  \n",
        " device_vector\n",
        "\n",
        " host_vector instances are allocated in the memory of the host while device_vector instances are allocated in the memory of the GPU.\n",
        "\n",
        " Copying back and forth can be done with a simple assignment.\n",
        "\n",
        "\n",
        " The kernels that one uses in CUDA are replaced with functors where one adds the keywords __host__ and/or __device__ to indicate where those functors can be executed.\n",
        " functors are C++ functions that can be applied to all the entries in a vector.\n",
        "\n",
        " One uses the transform primitive in C++ to apply a functor to all the elements of a vector and then to store the results in another vector.\n",
        "\n",
        " Thurst also offers a number of powerful primitives, for instance reduction operations."
      ],
      "metadata": {
        "id": "vGt0Xn4VeAvZ"
      }
    },
    {
      "cell_type": "code",
      "execution_count": 37,
      "metadata": {
        "colab": {
          "base_uri": "https://localhost:8080/"
        },
        "id": "U_XuBwENL2MV",
        "outputId": "f57c32b7-6d3d-4dce-e871-11c16971edcf"
      },
      "outputs": [
        {
          "output_type": "stream",
          "name": "stdout",
          "text": [
            "Overwriting partition_thrust.cu\n"
          ]
        }
      ],
      "source": [
        "%%writefile partition_thrust.cu\n",
        "//\n",
        "// The Thrust documentation is available at\n",
        "// https://docs.nvidia.com/cuda/thrust/index.html\n",
        "//\n",
        "#include <thrust/host_vector.h>\n",
        "#include <thrust/device_vector.h>\n",
        "#include <thrust/sequence.h>\n",
        "#include <thrust/reduce.h>\n",
        "#include <thrust/functional.h>\n",
        "#include <thrust/execution_policy.h>\n",
        "\n",
        "#include <iostream>\n",
        "\n",
        "\n",
        "\n",
        "using namespace std;\n",
        "\n",
        "// In Thrust, kernels are written as functors in C++\n",
        "// With the additional use of the keywords\n",
        "// __host__\n",
        "// __device__\n",
        "// The keyword __host__ states that this functor can be used on the host\n",
        "// The keyword __device__ states that this functor can be used on the device\n",
        "\n",
        "\n",
        "// This functor evaluates a subset encoded by an integer value\n",
        "// as a possible solution to the partition problem.\n",
        "// If this subset is indeed a solution, then the result is the\n",
        "// value of the integer that encodes the subset.\n",
        "// Otherwise the result is 0.\n",
        "\n",
        "// Thus the vector with the results will contain non-zero values\n",
        "// in the entries that encode subsets that are solutions to this\n",
        "// particular instance of the problem.\n",
        "// If the instance of the problem does not have any solutions,\n",
        "// the entire vector with results will contain 0s.\n",
        "\n",
        "struct evaluateFunctor\n",
        "{\n",
        "\n",
        "  const int n;\n",
        "  const int *array;\n",
        "\n",
        "  evaluateFunctor(int _n,int *_array) : n(_n),array(_array) {}\n",
        "    __host__ __device__\n",
        "\n",
        "    int operator()( const int value) {\n",
        "      int sum0s = 0;\n",
        "      int sum1s = 0;\n",
        "      unsigned int mask = 1;\n",
        "      for(int i = 0;i < n;i++) {\n",
        "        if ((mask & value) != 0) {\n",
        "          sum1s = sum1s + array[i];\n",
        "        }\n",
        "        else {\n",
        "          sum0s = sum0s + array[i];\n",
        "        }\n",
        "        mask = mask * 2;\n",
        "      }\n",
        "      if (sum0s == sum1s)\n",
        "        return value;\n",
        "      else\n",
        "        return 0;\n",
        "  }\n",
        "\n",
        "};\n",
        "\n",
        "void printResults(int value,int n,thrust::host_vector < int > array)\n",
        "{\n",
        "  cout << \"Solution:\\n\" << endl;\n",
        "  cout << \"First partition: \" << endl ;\n",
        "  unsigned int mask = 1;\n",
        "  int sum = 0;\n",
        "  for(int i = 0;i < n;i++) {\n",
        "    if ((mask & value) != 0) {\n",
        "      cout << array[i] << \" \";\n",
        "      sum = sum + array[i];\n",
        "    }\n",
        "    mask = mask * 2;\n",
        "  }\n",
        "  cout << \" sum: \" << sum << endl;\n",
        "  cout << \"Second partition: \" << endl ;\n",
        "  mask = 1;\n",
        "  sum = 0;\n",
        "  for(int i = 0;i < n;i++) {\n",
        "    if ((mask & value) == 0) {\n",
        "      cout << array[i] << \" \";\n",
        "      sum = sum + array[i];\n",
        "    }\n",
        "    mask = mask * 2;\n",
        "  }\n",
        "  cout << \" sum: \" << sum << endl;\n",
        "}\n",
        "\n",
        "int main(void) {\n",
        "    // Read the instance of the problem from standard input\n",
        "    // Read first the size of the problem\n",
        "\n",
        "    int n;\n",
        "    cin >> n;\n",
        "\n",
        "    // Allocate an array in the host and read the n integer values\n",
        "\n",
        "    thrust::host_vector < int > host_array(n);\n",
        "    for(int i = 0;i < n;i++) {\n",
        "      cin >> host_array[i];\n",
        "    }\n",
        "\n",
        "    // Now allocate a device_vector and copy\n",
        "    // the host_vector to the GPU memory\n",
        "\n",
        "    thrust::device_vector < int > device_array(n);\n",
        "    device_array = host_array;\n",
        "\n",
        "    // Generate the sequence of integer values\n",
        "    // that encode all the possible subsets\n",
        "\n",
        "    int powerOf2 = 1;\n",
        "    for(int i = 0;i < n-1;i++) {\n",
        "      powerOf2 = powerOf2 * 2;\n",
        "    }\n",
        "    std::cout << \"Number of subsets to evaluate is : \" << powerOf2 << std::endl;\n",
        "    thrust::host_vector<int> sequentialValues(powerOf2);\n",
        "    // cout << \"Allocated sequentialValues.\" << endl;\n",
        "    thrust::sequence(sequentialValues.begin(),sequentialValues.end());\n",
        "    thrust::device_vector<int>  is_solution(powerOf2);\n",
        "    // cout << \"Allocated is_solution.\" << endl;\n",
        "    thrust::device_vector<int> encodingOfSubset(powerOf2);\n",
        "    // cout << \"Allocated encodigOfSubset.\" << endl;\n",
        "    encodingOfSubset = sequentialValues;\n",
        "    // cout << \"Copied data to GPU.\" << endl;\n",
        "\n",
        "\n",
        "    // Instantiate the functor\n",
        "\n",
        "    evaluateFunctor ef(n,thrust::raw_pointer_cast(device_array.data()));\n",
        "    // cout << \"Instantiated functor \" << endl;\n",
        "    // Execute the kernel. In this case a C++ functor\n",
        "    // transform applies a functor to the input parameters\n",
        "    // and leaves the result in the last parameter\n",
        "    thrust::transform(encodingOfSubset.begin(), encodingOfSubset.end(),\n",
        "                        is_solution.begin(), ef);\n",
        "    // cout << \"Performed transformation.\" << endl;\n",
        "    int result = thrust::reduce(\n",
        "                            is_solution.begin(),is_solution.end(),\n",
        "                            0,\n",
        "                            thrust::maximum<int>());\n",
        "    // cout << \"result is: \" << result << endl;\n",
        "    if (result == 0)\n",
        "       cout << \"This instance does not have a solution. \" << endl;\n",
        "    else\n",
        "\t    printResults(result,n,host_array);\n",
        "\n",
        "}\n"
      ]
    },
    {
      "cell_type": "code",
      "source": [
        "!nvcc partition_thrust.cu -o partition_thrust\n"
      ],
      "metadata": {
        "id": "473XJ_tVPKN5"
      },
      "execution_count": 38,
      "outputs": []
    },
    {
      "cell_type": "code",
      "source": [
        "%%writefile test_with_solution_24.txt\n",
        "24\n",
        "1 1 1 1 1 1 1 1 1 1 1 1 1 1 1 1 1 1 1 1 1 1 1 23"
      ],
      "metadata": {
        "colab": {
          "base_uri": "https://localhost:8080/"
        },
        "id": "67FCVowgPpPD",
        "outputId": "4e12d5e3-953f-41ef-8c9c-376699222986"
      },
      "execution_count": 29,
      "outputs": [
        {
          "output_type": "stream",
          "name": "stdout",
          "text": [
            "Writing test_with_solution_24.txt\n"
          ]
        }
      ]
    },
    {
      "cell_type": "code",
      "source": [
        "!time ./partition_thrust < test_with_solution_24.txt"
      ],
      "metadata": {
        "colab": {
          "base_uri": "https://localhost:8080/"
        },
        "id": "LW36fj38YzRs",
        "outputId": "0033187b-f0e9-4d8e-f7c2-304c2f958ad7"
      },
      "execution_count": 39,
      "outputs": [
        {
          "output_type": "stream",
          "name": "stdout",
          "text": [
            "Number of subsets to evaluate is : 8388608\n",
            "Solution:\n",
            "\n",
            "First partition: \n",
            "1 1 1 1 1 1 1 1 1 1 1 1 1 1 1 1 1 1 1 1 1 1 1  sum: 23\n",
            "Second partition: \n",
            "23  sum: 23\n",
            "\n",
            "real\t0m2.220s\n",
            "user\t0m2.072s\n",
            "sys\t0m0.132s\n"
          ]
        }
      ]
    },
    {
      "cell_type": "code",
      "source": [
        "%%writefile test_with_no_solution_24.txt\n",
        "24\n",
        "1 1 1 1 1 1 1 1 1 1 1 1 1 1 1 1 1 1 1 1 1 1 1 32"
      ],
      "metadata": {
        "colab": {
          "base_uri": "https://localhost:8080/"
        },
        "id": "secaTyXpgS8M",
        "outputId": "767691ff-02a4-427e-de80-1fd03228f44a"
      },
      "execution_count": 40,
      "outputs": [
        {
          "output_type": "stream",
          "name": "stdout",
          "text": [
            "Overwriting test_with_no_solution_24.txt\n"
          ]
        }
      ]
    },
    {
      "cell_type": "code",
      "source": [
        "!time ./partition_thrust < test_with_no_solution_24.txt"
      ],
      "metadata": {
        "colab": {
          "base_uri": "https://localhost:8080/"
        },
        "id": "IGK6nmLwgYY9",
        "outputId": "43f02b7f-344a-417a-9c65-97a36954f1d8"
      },
      "execution_count": 41,
      "outputs": [
        {
          "output_type": "stream",
          "name": "stdout",
          "text": [
            "Number of subsets to evaluate is : 8388608\n",
            "This instance does not have a solution. \n",
            "\n",
            "real\t0m2.238s\n",
            "user\t0m2.097s\n",
            "sys\t0m0.132s\n"
          ]
        }
      ]
    }
  ]
}