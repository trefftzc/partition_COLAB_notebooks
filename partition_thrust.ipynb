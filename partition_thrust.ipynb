{
  "nbformat": 4,
  "nbformat_minor": 0,
  "metadata": {
    "colab": {
      "provenance": [],
      "gpuType": "T4",
      "authorship_tag": "ABX9TyMTfwXfkSpcoHWo+NEbqsBb",
      "include_colab_link": true
    },
    "kernelspec": {
      "name": "python3",
      "display_name": "Python 3"
    },
    "language_info": {
      "name": "python"
    },
    "accelerator": "GPU"
  },
  "cells": [
    {
      "cell_type": "markdown",
      "metadata": {
        "id": "view-in-github",
        "colab_type": "text"
      },
      "source": [
        "<a href=\"https://colab.research.google.com/github/trefftzc/partition_COLAB_notebooks/blob/main/partition_thrust.ipynb\" target=\"_parent\"><img src=\"https://colab.research.google.com/assets/colab-badge.svg\" alt=\"Open In Colab\"/></a>"
      ]
    },
    {
      "cell_type": "markdown",
      "source": [
        "## Thrust\n",
        "\n",
        "Thrust is a C++ library that NVIDIA has created to simplify the programming of GPUs.\n",
        "\n",
        "The web site for Thrust is:\n",
        " https://developer.nvidia.com/thrust\n",
        "\n",
        " Thrust uses similar design principles to the STL library in C++.\n",
        "\n",
        " One of the most used classes in STL is the class vector.\n",
        "\n",
        " Thrust extends the class vector with two specialized classes:\n",
        "\n",
        " host_vector\n",
        "\n",
        " and\n",
        "  \n",
        " device_vector\n",
        "\n",
        " host_vector instances are allocated in the memory of the host while device_vector instances are allocated in the memory of the GPU.\n",
        "\n",
        " Copying back and forth can be done with a simple assignment.\n",
        "\n",
        "\n",
        " The kernels that one uses in CUDA are replaced with functors where one adds the keywords __host__ and/or __device__ to indicate where those functors can be executed.\n",
        " functors are C++ functions that can be applied to all the entries in a vector.\n",
        "\n",
        " One uses the transform primitive in C++ to apply a functor to all the elements of a vector and then to store the results in another vector.\n",
        "\n",
        " Thurst also offers a number of powerful primitives, for instance reduction operations."
      ],
      "metadata": {
        "id": "vGt0Xn4VeAvZ"
      }
    },
    {
      "cell_type": "code",
      "execution_count": null,
      "metadata": {
        "colab": {
          "base_uri": "https://localhost:8080/"
        },
        "id": "U_XuBwENL2MV",
        "outputId": "42172796-49dc-4edd-a0a1-bd116921d590"
      },
      "outputs": [
        {
          "output_type": "stream",
          "name": "stdout",
          "text": [
            "Overwriting partition_thrust.cu\n"
          ]
        }
      ],
      "source": [
        "%%writefile partition_thrust.cu\n",
        "//\n",
        "// The Thrust documentation is available at\n",
        "// https://docs.nvidia.com/cuda/thrust/index.html\n",
        "//\n",
        "#include <thrust/host_vector.h>\n",
        "#include <thrust/device_vector.h>\n",
        "#include <thrust/sequence.h>\n",
        "#include <thrust/reduce.h>\n",
        "#include <thrust/functional.h>\n",
        "#include <thrust/execution_policy.h>\n",
        "\n",
        "#include <iostream>\n",
        "\n",
        "\n",
        "\n",
        "using namespace std;\n",
        "\n",
        "// In Thrust, kernels are written as functors in C++\n",
        "// With the additional use of the keywords\n",
        "// __host__\n",
        "// __device__\n",
        "// The keyword __host__ states that this functor can be used on the host\n",
        "// The keyword __device__ states that this functor can be used on the device\n",
        "\n",
        "\n",
        "// This functor evaluates a subset encoded by an integer value\n",
        "// as a possible solution to the partition problem.\n",
        "// If this subset is indeed a solution, then the result is the\n",
        "// value of the integer that encodes the subset.\n",
        "// Otherwise the result is 0.\n",
        "\n",
        "// Thus the vector with the results will contain non-zero values\n",
        "// in the entries that encode subsets that are solutions to this\n",
        "// particular instance of the problem.\n",
        "// If the instance of the problem does not have any solutions,\n",
        "// the entire vector with results will contain 0s.\n",
        "\n",
        "struct evaluateFunctor\n",
        "{\n",
        "\n",
        "  const int n;\n",
        "  const int *array;\n",
        "\n",
        "  evaluateFunctor(int _n,int *_array) : n(_n),array(_array) {}\n",
        "    __host__ __device__\n",
        "\n",
        "    int operator()( const int value) {\n",
        "      int sum0s = 0;\n",
        "      int sum1s = 0;\n",
        "      unsigned int mask = 1;\n",
        "      for(int i = 0;i < n;i++) {\n",
        "        if ((mask & value) != 0) {\n",
        "          sum1s = sum1s + array[i];\n",
        "        }\n",
        "        else {\n",
        "          sum0s = sum0s + array[i];\n",
        "        }\n",
        "        mask = mask * 2;\n",
        "      }\n",
        "      if (sum0s == sum1s)\n",
        "        return value;\n",
        "      else\n",
        "        return 0;\n",
        "  }\n",
        "\n",
        "};\n",
        "\n",
        "void printResults(int value,int n,thrust::host_vector < int > array)\n",
        "{\n",
        "  cout << \"Solution:\\n\" << endl;\n",
        "  cout << \"First partition: \" << endl ;\n",
        "  unsigned int mask = 1;\n",
        "  int sum = 0;\n",
        "  for(int i = 0;i < n;i++) {\n",
        "    if ((mask & value) != 0) {\n",
        "      cout << array[i] << \" \";\n",
        "      sum = sum + array[i];\n",
        "    }\n",
        "    mask = mask * 2;\n",
        "  }\n",
        "  cout << \" sum: \" << sum << endl;\n",
        "  cout << \"Second partition: \" << endl ;\n",
        "  mask = 1;\n",
        "  sum = 0;\n",
        "  for(int i = 0;i < n;i++) {\n",
        "    if ((mask & value) == 0) {\n",
        "      cout << array[i] << \" \";\n",
        "      sum = sum + array[i];\n",
        "    }\n",
        "    mask = mask * 2;\n",
        "  }\n",
        "  cout << \" sum: \" << sum << endl;\n",
        "}\n",
        "\n",
        "int main(void) {\n",
        "    // Read the instance of the problem from standard input\n",
        "    // Read first the size of the problem\n",
        "\n",
        "    int n;\n",
        "    cin >> n;\n",
        "\n",
        "    // Allocate an array in the host and read the n integer values\n",
        "\n",
        "    thrust::host_vector < int > host_array(n);\n",
        "    for(int i = 0;i < n;i++) {\n",
        "      cin >> host_array[i];\n",
        "    }\n",
        "\n",
        "    // Now allocate a device_vector and copy\n",
        "    // the host_vector to the GPU memory\n",
        "\n",
        "    thrust::device_vector < int > device_array(n);\n",
        "    device_array = host_array;\n",
        "\n",
        "    // Generate the sequence of integer values\n",
        "    // that encode all the possible subsets\n",
        "\n",
        "    int powerOf2 = 1;\n",
        "    for(int i = 0;i < n-1;i++) {\n",
        "      powerOf2 = powerOf2 * 2;\n",
        "    }\n",
        "    std::cout << \"Number of subsets to evaluate is : \" << powerOf2 << std::endl;\n",
        "    // is_solution will contain the results of the evaluation\n",
        "    // It is allocated in the GPU memory\n",
        "    thrust::device_vector<int>  is_solution(powerOf2);\n",
        "\n",
        "    // encodingOfSubset will contain the sequence of integer values\n",
        "    // that encode all the possible subsets\n",
        "    // It is allocated in the GPU memory\n",
        "    thrust::device_vector<int> encodingOfSubset(powerOf2);\n",
        "\n",
        "    //  The sequence function in Thrust initializes the array\n",
        "    // encodingOfSubset with the sequence of integer values\n",
        "    // from 0 to powerOf2-1\n",
        "    thrust::sequence(encodingOfSubset.begin(),encodingOfSubset.end());\n",
        "\n",
        "\n",
        "\n",
        "    // Instantiate the functor\n",
        "\n",
        "    evaluateFunctor ef(n,thrust::raw_pointer_cast(device_array.data()));\n",
        "    // cout << \"Instantiated functor \" << endl;\n",
        "    // Execute the kernel. In this case a C++ functor\n",
        "    // transform applies a functor to the input parameters\n",
        "    // and leaves the result in the last parameter\n",
        "    thrust::transform(encodingOfSubset.begin(), encodingOfSubset.end(),\n",
        "                        is_solution.begin(), ef);\n",
        "    // cout << \"Performed transformation.\" << endl;\n",
        "    int result = thrust::reduce(\n",
        "                            is_solution.begin(),is_solution.end(),\n",
        "                            0,\n",
        "                            thrust::maximum<int>());\n",
        "    // cout << \"result is: \" << result << endl;\n",
        "    if (result == 0)\n",
        "       cout << \"This instance does not have a solution. \" << endl;\n",
        "    else\n",
        "\t    printResults(result,n,host_array);\n",
        "\n",
        "}\n"
      ]
    },
    {
      "cell_type": "code",
      "source": [
        "!nvcc partition_thrust.cu -o partition_thrust -O3\n"
      ],
      "metadata": {
        "id": "473XJ_tVPKN5"
      },
      "execution_count": null,
      "outputs": []
    },
    {
      "cell_type": "code",
      "source": [
        "%%writefile test_with_solution_24.txt\n",
        "24\n",
        "1 1 1 1 1 1 1 1 1 1 1 1 1 1 1 1 1 1 1 1 1 1 1 23"
      ],
      "metadata": {
        "colab": {
          "base_uri": "https://localhost:8080/"
        },
        "id": "67FCVowgPpPD",
        "outputId": "fea2df3a-b6d7-4ca0-d756-83780054c935"
      },
      "execution_count": null,
      "outputs": [
        {
          "output_type": "stream",
          "name": "stdout",
          "text": [
            "Writing test_with_solution_24.txt\n"
          ]
        }
      ]
    },
    {
      "cell_type": "code",
      "source": [
        "!time ./partition_thrust < test_with_solution_24.txt"
      ],
      "metadata": {
        "colab": {
          "base_uri": "https://localhost:8080/"
        },
        "id": "LW36fj38YzRs",
        "outputId": "a8799c38-9e2f-4668-ed79-28058734fe5c"
      },
      "execution_count": null,
      "outputs": [
        {
          "output_type": "stream",
          "name": "stdout",
          "text": [
            "Number of subsets to evaluate is : 8388608\n",
            "Solution:\n",
            "\n",
            "First partition: \n",
            "1 1 1 1 1 1 1 1 1 1 1 1 1 1 1 1 1 1 1 1 1 1 1  sum: 23\n",
            "Second partition: \n",
            "23  sum: 23\n",
            "\n",
            "real\t0m0.284s\n",
            "user\t0m0.018s\n",
            "sys\t0m0.243s\n"
          ]
        }
      ]
    },
    {
      "cell_type": "code",
      "source": [
        "%%writefile test_with_no_solution_24.txt\n",
        "24\n",
        "1 1 1 1 1 1 1 1 1 1 1 1 1 1 1 1 1 1 1 1 1 1 1 32"
      ],
      "metadata": {
        "colab": {
          "base_uri": "https://localhost:8080/"
        },
        "id": "secaTyXpgS8M",
        "outputId": "72a1c3cb-85de-4734-87b0-ac56104e67e0"
      },
      "execution_count": null,
      "outputs": [
        {
          "output_type": "stream",
          "name": "stdout",
          "text": [
            "Overwriting test_with_no_solution_24.txt\n"
          ]
        }
      ]
    },
    {
      "cell_type": "code",
      "source": [
        "%%writefile test_with_no_solution_29.txt\n",
        "29\n",
        "1 1 1 1 1 1 1 1 1 1 1 1 1 1 1 1 1 1 1 1 1 1 1 1 1 1 1 1 32"
      ],
      "metadata": {
        "id": "3NLd3QWxof2Z",
        "outputId": "f903cf12-5314-4247-aa64-a39e88d03b78",
        "colab": {
          "base_uri": "https://localhost:8080/"
        }
      },
      "execution_count": null,
      "outputs": [
        {
          "output_type": "stream",
          "name": "stdout",
          "text": [
            "Overwriting test_with_no_solution_29.txt\n"
          ]
        }
      ]
    },
    {
      "cell_type": "code",
      "source": [
        "!time ./partition_thrust < test_with_no_solution_29.txt"
      ],
      "metadata": {
        "colab": {
          "base_uri": "https://localhost:8080/"
        },
        "id": "IGK6nmLwgYY9",
        "outputId": "e90be0e5-e37b-42d9-8624-ec309914b3a5"
      },
      "execution_count": null,
      "outputs": [
        {
          "output_type": "stream",
          "name": "stdout",
          "text": [
            "Number of subsets to evaluate is : 268435456\n",
            "This instance does not have a solution. \n",
            "\n",
            "real\t0m0.359s\n",
            "user\t0m0.059s\n",
            "sys\t0m0.288s\n"
          ]
        }
      ]
    },
    {
      "cell_type": "code",
      "source": [
        "!nvprof ./partition_thrust < test_with_no_solution_24.txt\n"
      ],
      "metadata": {
        "id": "S39n90Conmox",
        "outputId": "d2d00b75-a40c-4b96-f8e8-ab20124dea38",
        "colab": {
          "base_uri": "https://localhost:8080/"
        }
      },
      "execution_count": null,
      "outputs": [
        {
          "output_type": "stream",
          "name": "stdout",
          "text": [
            "==3751== NVPROF is profiling process 3751, command: ./partition_thrust\n",
            "Number of subsets to evaluate is : 8388608\n",
            "This instance does not have a solution. \n",
            "==3751== Profiling application: ./partition_thrust\n",
            "==3751== Profiling result:\n",
            "            Type  Time(%)      Time     Calls       Avg       Min       Max  Name\n",
            " GPU activities:   57.73%  804.38us         1  804.38us  804.38us  804.38us  void thrust::cuda_cub::core::_kernel_agent<thrust::cuda_cub::__parallel_for::ParallelForAgent<thrust::cuda_cub::__transform::unary_transform_f<thrust::detail::normal_iterator<thrust::device_ptr<int>>, thrust::detail::normal_iterator<thrust::device_ptr<int>>, thrust::cuda_cub::__transform::no_stencil_tag, evaluateFunctor, thrust::cuda_cub::__transform::always_true_predicate>, long>, thrust::cuda_cub::__transform::unary_transform_f<thrust::detail::normal_iterator<thrust::device_ptr<int>>, thrust::detail::normal_iterator<thrust::device_ptr<int>>, thrust::cuda_cub::__transform::no_stencil_tag, evaluateFunctor, thrust::cuda_cub::__transform::always_true_predicate>, long>(thrust::device_ptr<int>, thrust::detail::normal_iterator<thrust::device_ptr<int>>)\n",
            "                   21.10%  293.98us         3  97.993us  3.0400us  146.97us  void thrust::cuda_cub::core::_kernel_agent<thrust::cuda_cub::__parallel_for::ParallelForAgent<thrust::cuda_cub::__uninitialized_fill::functor<thrust::device_ptr<int>, int>, unsigned long>, thrust::cuda_cub::__uninitialized_fill::functor<thrust::device_ptr<int>, int>, unsigned long>(thrust::device_ptr<int>, int)\n",
            "                   10.52%  146.65us         1  146.65us  146.65us  146.65us  void thrust::cuda_cub::core::_kernel_agent<thrust::cuda_cub::__parallel_for::ParallelForAgent<thrust::cuda_cub::__tabulate::functor<thrust::detail::normal_iterator<thrust::device_ptr<int>>, thrust::system::detail::generic::detail::compute_sequence_value<int, void>, long>, long>, thrust::cuda_cub::__tabulate::functor<thrust::detail::normal_iterator<thrust::device_ptr<int>>, thrust::system::detail::generic::detail::compute_sequence_value<int, void>, long>, long>(thrust::device_ptr<int>, thrust::detail::normal_iterator<thrust::device_ptr<int>>)\n",
            "                   10.05%  140.03us         1  140.03us  140.03us  140.03us  void cub::CUB_200200_520_NS::DeviceReduceKernel<cub::CUB_200200_520_NS::DeviceReducePolicy<int, unsigned int, thrust::maximum<int>>::Policy600, thrust::detail::normal_iterator<thrust::device_ptr<int>>, unsigned int, thrust::maximum<int>, int>(unsigned int, cub::CUB_200200_520_NS::DeviceReducePolicy<int, unsigned int, thrust::maximum<int>>::Policy600*, int, cub::CUB_200200_520_NS::GridEvenShare<cub::CUB_200200_520_NS::DeviceReducePolicy<int, unsigned int, thrust::maximum<int>>::Policy600*>, thrust::maximum<int>)\n",
            "                    0.40%  5.6320us         1  5.6320us  5.6320us  5.6320us  void cub::CUB_200200_520_NS::DeviceReduceSingleTileKernel<cub::CUB_200200_520_NS::DeviceReducePolicy<int, unsigned int, thrust::maximum<int>>::Policy600, int*, int*, int, thrust::maximum<int>, int, int>(unsigned int, int, thrust::maximum<int>, cub::CUB_200200_520_NS::DeviceReducePolicy<int, unsigned int, thrust::maximum<int>>::Policy600, int*)\n",
            "                    0.15%  2.0810us         1  2.0810us  2.0810us  2.0810us  [CUDA memcpy DtoH]\n",
            "                    0.05%     640ns         1     640ns     640ns     640ns  [CUDA memcpy HtoD]\n",
            "      API calls:   97.16%  191.24ms         4  47.810ms  8.7960us  190.94ms  cudaMalloc\n",
            "                    1.19%  2.3498ms         4  587.46us  7.5210us  1.1464ms  cudaFree\n",
            "                    0.75%  1.4744ms         1  1.4744ms  1.4744ms  1.4744ms  cudaFuncGetAttributes\n",
            "                    0.72%  1.4148ms         8  176.85us  1.7430us  807.36us  cudaStreamSynchronize\n",
            "                    0.07%  141.04us       114  1.2370us     139ns  57.341us  cuDeviceGetAttribute\n",
            "                    0.05%  100.23us         7  14.319us  6.4450us  36.058us  cudaLaunchKernel\n",
            "                    0.02%  32.755us         2  16.377us  11.306us  21.449us  cudaMemcpyAsync\n",
            "                    0.01%  14.584us        77     189ns     129ns  1.8290us  cudaGetLastError\n",
            "                    0.01%  11.301us         1  11.301us  11.301us  11.301us  cuDeviceGetName\n",
            "                    0.01%  10.587us         2  5.2930us     621ns  9.9660us  cudaOccupancyMaxActiveBlocksPerMultiprocessorWithFlags\n",
            "                    0.00%  8.6420us        15     576ns     290ns  1.4060us  cudaGetDevice\n",
            "                    0.00%  7.2940us         1  7.2940us  7.2940us  7.2940us  cuDeviceGetPCIBusId\n",
            "                    0.00%  4.7970us         1  4.7970us  4.7970us  4.7970us  cuDeviceTotalMem\n",
            "                    0.00%  4.6330us         7     661ns     320ns  1.4560us  cudaDeviceGetAttribute\n",
            "                    0.00%  2.5060us        14     179ns     129ns     263ns  cudaPeekAtLastError\n",
            "                    0.00%  2.4490us         2  1.2240us     180ns  2.2690us  cuDeviceGet\n",
            "                    0.00%  1.3440us         3     448ns     209ns     840ns  cuDeviceGetCount\n",
            "                    0.00%     461ns         1     461ns     461ns     461ns  cuModuleGetLoadingMode\n",
            "                    0.00%     245ns         1     245ns     245ns     245ns  cuDeviceGetUuid\n",
            "                    0.00%     236ns         1     236ns     236ns     236ns  cudaGetDeviceCount\n"
          ]
        }
      ]
    },
    {
      "cell_type": "code",
      "source": [
        "!nvprof ./partition_thrust < test_with_no_solution_29.txt"
      ],
      "metadata": {
        "id": "c7_R2PFOoyya",
        "outputId": "2cddcc34-1518-4fc1-ce27-5fe1f7d3e638",
        "colab": {
          "base_uri": "https://localhost:8080/"
        }
      },
      "execution_count": null,
      "outputs": [
        {
          "output_type": "stream",
          "name": "stdout",
          "text": [
            "==3811== NVPROF is profiling process 3811, command: ./partition_thrust\n",
            "Number of subsets to evaluate is : 268435456\n",
            "This instance does not have a solution. \n",
            "==3811== Profiling application: ./partition_thrust\n",
            "==3811== Profiling result:\n",
            "            Type  Time(%)      Time     Calls       Avg       Min       Max  Name\n",
            " GPU activities:   61.72%  29.866ms         1  29.866ms  29.866ms  29.866ms  void thrust::cuda_cub::core::_kernel_agent<thrust::cuda_cub::__parallel_for::ParallelForAgent<thrust::cuda_cub::__transform::unary_transform_f<thrust::detail::normal_iterator<thrust::device_ptr<int>>, thrust::detail::normal_iterator<thrust::device_ptr<int>>, thrust::cuda_cub::__transform::no_stencil_tag, evaluateFunctor, thrust::cuda_cub::__transform::always_true_predicate>, long>, thrust::cuda_cub::__transform::unary_transform_f<thrust::detail::normal_iterator<thrust::device_ptr<int>>, thrust::detail::normal_iterator<thrust::device_ptr<int>>, thrust::cuda_cub::__transform::no_stencil_tag, evaluateFunctor, thrust::cuda_cub::__transform::always_true_predicate>, long>(thrust::device_ptr<int>, thrust::detail::normal_iterator<thrust::device_ptr<int>>)\n",
            "                   19.13%  9.2558ms         3  3.0853ms  2.9760us  4.6295ms  void thrust::cuda_cub::core::_kernel_agent<thrust::cuda_cub::__parallel_for::ParallelForAgent<thrust::cuda_cub::__uninitialized_fill::functor<thrust::device_ptr<int>, int>, unsigned long>, thrust::cuda_cub::__uninitialized_fill::functor<thrust::device_ptr<int>, int>, unsigned long>(thrust::device_ptr<int>, int)\n",
            "                    9.58%  4.6365ms         1  4.6365ms  4.6365ms  4.6365ms  void cub::CUB_200200_520_NS::DeviceReduceKernel<cub::CUB_200200_520_NS::DeviceReducePolicy<int, unsigned int, thrust::maximum<int>>::Policy600, thrust::detail::normal_iterator<thrust::device_ptr<int>>, unsigned int, thrust::maximum<int>, int>(unsigned int, cub::CUB_200200_520_NS::DeviceReducePolicy<int, unsigned int, thrust::maximum<int>>::Policy600*, int, cub::CUB_200200_520_NS::GridEvenShare<cub::CUB_200200_520_NS::DeviceReducePolicy<int, unsigned int, thrust::maximum<int>>::Policy600*>, thrust::maximum<int>)\n",
            "                    9.56%  4.6242ms         1  4.6242ms  4.6242ms  4.6242ms  void thrust::cuda_cub::core::_kernel_agent<thrust::cuda_cub::__parallel_for::ParallelForAgent<thrust::cuda_cub::__tabulate::functor<thrust::detail::normal_iterator<thrust::device_ptr<int>>, thrust::system::detail::generic::detail::compute_sequence_value<int, void>, long>, long>, thrust::cuda_cub::__tabulate::functor<thrust::detail::normal_iterator<thrust::device_ptr<int>>, thrust::system::detail::generic::detail::compute_sequence_value<int, void>, long>, long>(thrust::device_ptr<int>, thrust::detail::normal_iterator<thrust::device_ptr<int>>)\n",
            "                    0.01%  5.7280us         1  5.7280us  5.7280us  5.7280us  void cub::CUB_200200_520_NS::DeviceReduceSingleTileKernel<cub::CUB_200200_520_NS::DeviceReducePolicy<int, unsigned int, thrust::maximum<int>>::Policy600, int*, int*, int, thrust::maximum<int>, int, int>(unsigned int, int, thrust::maximum<int>, cub::CUB_200200_520_NS::DeviceReducePolicy<int, unsigned int, thrust::maximum<int>>::Policy600, int*)\n",
            "                    0.01%  3.0720us         1  3.0720us  3.0720us  3.0720us  [CUDA memcpy DtoH]\n",
            "                    0.00%     640ns         1     640ns     640ns     640ns  [CUDA memcpy HtoD]\n",
            "      API calls:   77.80%  193.75ms         4  48.437ms  21.198us  191.64ms  cudaMalloc\n",
            "                   19.78%  49.260ms         8  6.1576ms  2.7740us  29.874ms  cudaStreamSynchronize\n",
            "                    1.69%  4.2148ms         4  1.0537ms  14.076us  2.9651ms  cudaFree\n",
            "                    0.54%  1.3536ms         1  1.3536ms  1.3536ms  1.3536ms  cudaFuncGetAttributes\n",
            "                    0.06%  152.40us         7  21.771us  11.932us  34.198us  cudaLaunchKernel\n",
            "                    0.06%  148.35us       114  1.3010us     133ns  57.227us  cuDeviceGetAttribute\n",
            "                    0.02%  55.190us         2  27.595us  11.165us  44.025us  cudaMemcpyAsync\n",
            "                    0.01%  19.116us         2  9.5580us  1.0320us  18.084us  cudaOccupancyMaxActiveBlocksPerMultiprocessorWithFlags\n",
            "                    0.01%  16.752us        77     217ns     117ns     932ns  cudaGetLastError\n",
            "                    0.01%  13.343us        15     889ns     303ns  1.9660us  cudaGetDevice\n",
            "                    0.01%  13.087us         1  13.087us  13.087us  13.087us  cuDeviceGetName\n",
            "                    0.00%  7.8350us         7  1.1190us     745ns  1.6260us  cudaDeviceGetAttribute\n",
            "                    0.00%  6.8310us         1  6.8310us  6.8310us  6.8310us  cuDeviceTotalMem\n",
            "                    0.00%  5.3580us         1  5.3580us  5.3580us  5.3580us  cuDeviceGetPCIBusId\n",
            "                    0.00%  2.8740us        14     205ns     131ns     284ns  cudaPeekAtLastError\n",
            "                    0.00%  1.6930us         3     564ns     186ns  1.1510us  cuDeviceGetCount\n",
            "                    0.00%  1.0350us         2     517ns     318ns     717ns  cuDeviceGet\n",
            "                    0.00%     449ns         1     449ns     449ns     449ns  cuModuleGetLoadingMode\n",
            "                    0.00%     263ns         1     263ns     263ns     263ns  cuDeviceGetUuid\n",
            "                    0.00%     250ns         1     250ns     250ns     250ns  cudaGetDeviceCount\n"
          ]
        }
      ]
    }
  ]
}