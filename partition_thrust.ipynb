{
  "nbformat": 4,
  "nbformat_minor": 0,
  "metadata": {
    "colab": {
      "provenance": [],
      "gpuType": "T4",
      "authorship_tag": "ABX9TyOiQu5pP2LUhjYHqTuzMedf",
      "include_colab_link": true
    },
    "kernelspec": {
      "name": "python3",
      "display_name": "Python 3"
    },
    "language_info": {
      "name": "python"
    },
    "accelerator": "GPU"
  },
  "cells": [
    {
      "cell_type": "markdown",
      "metadata": {
        "id": "view-in-github",
        "colab_type": "text"
      },
      "source": [
        "<a href=\"https://colab.research.google.com/github/trefftzc/partition_COLAB_notebooks/blob/main/partition_thrust.ipynb\" target=\"_parent\"><img src=\"https://colab.research.google.com/assets/colab-badge.svg\" alt=\"Open In Colab\"/></a>"
      ]
    },
    {
      "cell_type": "markdown",
      "source": [
        "## Thrust\n",
        "\n",
        "Thrust is a C++ library that NVIDIA has created to simplify the programming of GPUs.\n",
        "\n",
        "The web site for Thrust is:\n",
        " https://developer.nvidia.com/thrust\n",
        "\n",
        " Thrust uses similar design principles to the STL library in C++.\n",
        "\n",
        " One of the most used classes in STL is the class vector.\n",
        "\n",
        " Thrust extends the class vector with two specialized classes:\n",
        "\n",
        " host_vector\n",
        "\n",
        " and\n",
        "  \n",
        " device_vector\n",
        "\n",
        " host_vector instances are allocated in the memory of the host while device_vector instances are allocated in the memory of the GPU.\n",
        "\n",
        " Copying back and forth can be done with a simple assignment.\n",
        "\n",
        "\n",
        " The kernels that one uses in CUDA are replaced with functors where one adds the keywords __host__ and/or __device__ to indicate where those functors can be executed.\n",
        " functors are C++ functions that can be applied to all the entries in a vector.\n",
        "\n",
        " One uses the transform primitive in C++ to apply a functor to all the elements of a vector and then to store the results in another vector.\n",
        "\n",
        " Thurst also offers a number of powerful primitives, for instance reduction operations."
      ],
      "metadata": {
        "id": "vGt0Xn4VeAvZ"
      }
    },
    {
      "cell_type": "code",
      "execution_count": 1,
      "metadata": {
        "colab": {
          "base_uri": "https://localhost:8080/"
        },
        "id": "U_XuBwENL2MV",
        "outputId": "dd1a0184-54db-4408-ce49-3b3acee72c72"
      },
      "outputs": [
        {
          "output_type": "stream",
          "name": "stdout",
          "text": [
            "Writing partition_thrust.cu\n"
          ]
        }
      ],
      "source": [
        "%%writefile partition_thrust.cu\n",
        "//\n",
        "// The Thrust documentation is available at\n",
        "// https://docs.nvidia.com/cuda/thrust/index.html\n",
        "//\n",
        "#include <thrust/host_vector.h>\n",
        "#include <thrust/device_vector.h>\n",
        "#include <thrust/sequence.h>\n",
        "#include <thrust/reduce.h>\n",
        "#include <thrust/functional.h>\n",
        "#include <thrust/execution_policy.h>\n",
        "\n",
        "#include <iostream>\n",
        "\n",
        "\n",
        "\n",
        "using namespace std;\n",
        "\n",
        "// In Thrust, kernels are written as functors in C++\n",
        "// With the additional use of the keywords\n",
        "// __host__\n",
        "// __device__\n",
        "// The keyword __host__ states that this functor can be used on the host\n",
        "// The keyword __device__ states that this functor can be used on the device\n",
        "\n",
        "\n",
        "// This functor evaluates a subset encoded by an integer value\n",
        "// as a possible solution to the partition problem.\n",
        "// If this subset is indeed a solution, then the result is the\n",
        "// value of the integer that encodes the subset.\n",
        "// Otherwise the result is 0.\n",
        "\n",
        "// Thus the vector with the results will contain non-zero values\n",
        "// in the entries that encode subsets that are solutions to this\n",
        "// particular instance of the problem.\n",
        "// If the instance of the problem does not have any solutions,\n",
        "// the entire vector with results will contain 0s.\n",
        "\n",
        "struct evaluateFunctor\n",
        "{\n",
        "\n",
        "  const int n;\n",
        "  const int *array;\n",
        "\n",
        "  evaluateFunctor(int _n,int *_array) : n(_n),array(_array) {}\n",
        "    __host__ __device__\n",
        "\n",
        "    int operator()( const int value) {\n",
        "      int sum0s = 0;\n",
        "      int sum1s = 0;\n",
        "      unsigned int mask = 1;\n",
        "      for(int i = 0;i < n;i++) {\n",
        "        if ((mask & value) != 0) {\n",
        "          sum1s = sum1s + array[i];\n",
        "        }\n",
        "        else {\n",
        "          sum0s = sum0s + array[i];\n",
        "        }\n",
        "        mask = mask * 2;\n",
        "      }\n",
        "      if (sum0s == sum1s)\n",
        "        return value;\n",
        "      else\n",
        "        return 0;\n",
        "  }\n",
        "\n",
        "};\n",
        "\n",
        "void printResults(int value,int n,thrust::host_vector < int > array)\n",
        "{\n",
        "  cout << \"Solution:\\n\" << endl;\n",
        "  cout << \"First partition: \" << endl ;\n",
        "  unsigned int mask = 1;\n",
        "  int sum = 0;\n",
        "  for(int i = 0;i < n;i++) {\n",
        "    if ((mask & value) != 0) {\n",
        "      cout << array[i] << \" \";\n",
        "      sum = sum + array[i];\n",
        "    }\n",
        "    mask = mask * 2;\n",
        "  }\n",
        "  cout << \" sum: \" << sum << endl;\n",
        "  cout << \"Second partition: \" << endl ;\n",
        "  mask = 1;\n",
        "  sum = 0;\n",
        "  for(int i = 0;i < n;i++) {\n",
        "    if ((mask & value) == 0) {\n",
        "      cout << array[i] << \" \";\n",
        "      sum = sum + array[i];\n",
        "    }\n",
        "    mask = mask * 2;\n",
        "  }\n",
        "  cout << \" sum: \" << sum << endl;\n",
        "}\n",
        "\n",
        "int main(void) {\n",
        "    // Read the instance of the problem from standard input\n",
        "    // Read first the size of the problem\n",
        "\n",
        "    int n;\n",
        "    cin >> n;\n",
        "\n",
        "    // Allocate an array in the host and read the n integer values\n",
        "\n",
        "    thrust::host_vector < int > host_array(n);\n",
        "    for(int i = 0;i < n;i++) {\n",
        "      cin >> host_array[i];\n",
        "    }\n",
        "\n",
        "    // Now allocate a device_vector and copy\n",
        "    // the host_vector to the GPU memory\n",
        "\n",
        "    thrust::device_vector < int > device_array(n);\n",
        "    device_array = host_array;\n",
        "\n",
        "    // Generate the sequence of integer values\n",
        "    // that encode all the possible subsets\n",
        "\n",
        "    int powerOf2 = 1;\n",
        "    for(int i = 0;i < n-1;i++) {\n",
        "      powerOf2 = powerOf2 * 2;\n",
        "    }\n",
        "    std::cout << \"Number of subsets to evaluate is : \" << powerOf2 << std::endl;\n",
        "    // is_solution will contain the results of the evaluation\n",
        "    // It is allocated in the GPU memory\n",
        "    thrust::device_vector<int>  is_solution(powerOf2);\n",
        "\n",
        "    // encodingOfSubset will contain the sequence of integer values\n",
        "    // that encode all the possible subsets\n",
        "    // It is allocated in the GPU memory\n",
        "    thrust::device_vector<int> encodingOfSubset(powerOf2);\n",
        "\n",
        "    //  The sequence function in Thrust initializes the array\n",
        "    // encodingOfSubset with the sequence of integer values\n",
        "    // from 0 to powerOf2-1\n",
        "    thrust::sequence(encodingOfSubset.begin(),encodingOfSubset.end());\n",
        "\n",
        "\n",
        "\n",
        "    // Instantiate the functor\n",
        "\n",
        "    evaluateFunctor ef(n,thrust::raw_pointer_cast(device_array.data()));\n",
        "    // cout << \"Instantiated functor \" << endl;\n",
        "    // Execute the kernel. In this case a C++ functor\n",
        "    // transform applies a functor to the input parameters\n",
        "    // and leaves the result in the last parameter\n",
        "    thrust::transform(encodingOfSubset.begin(), encodingOfSubset.end(),\n",
        "                        is_solution.begin(), ef);\n",
        "    // cout << \"Performed transformation.\" << endl;\n",
        "    int result = thrust::reduce(\n",
        "                            is_solution.begin(),is_solution.end(),\n",
        "                            0,\n",
        "                            thrust::maximum<int>());\n",
        "    // cout << \"result is: \" << result << endl;\n",
        "    if (result == 0)\n",
        "       cout << \"This instance does not have a solution. \" << endl;\n",
        "    else\n",
        "\t    printResults(result,n,host_array);\n",
        "\n",
        "}\n"
      ]
    },
    {
      "cell_type": "code",
      "source": [
        "!nvcc -Icccl/thrust -Icccl/libcudacxx/include -Icccl/cub partition_thrust.cu -o partition_thrust -arch sm_75\n"
      ],
      "metadata": {
        "id": "473XJ_tVPKN5"
      },
      "execution_count": 2,
      "outputs": []
    },
    {
      "cell_type": "code",
      "source": [
        "%%writefile test_with_solution_24.txt\n",
        "24\n",
        "1 1 1 1 1 1 1 1 1 1 1 1 1 1 1 1 1 1 1 1 1 1 1 23"
      ],
      "metadata": {
        "colab": {
          "base_uri": "https://localhost:8080/"
        },
        "id": "67FCVowgPpPD",
        "outputId": "fac34eac-b5ea-4213-d305-ad2ece319b74"
      },
      "execution_count": 3,
      "outputs": [
        {
          "output_type": "stream",
          "name": "stdout",
          "text": [
            "Writing test_with_solution_24.txt\n"
          ]
        }
      ]
    },
    {
      "cell_type": "code",
      "source": [
        "!time ./partition_thrust < test_with_solution_24.txt"
      ],
      "metadata": {
        "colab": {
          "base_uri": "https://localhost:8080/"
        },
        "id": "LW36fj38YzRs",
        "outputId": "dfa871ac-b220-4bfc-a2d6-abdaddc4a08a"
      },
      "execution_count": 4,
      "outputs": [
        {
          "output_type": "stream",
          "name": "stdout",
          "text": [
            "Number of subsets to evaluate is : 8388608\n",
            "Solution:\n",
            "\n",
            "First partition: \n",
            "1 1 1 1 1 1 1 1 1 1 1 1 1 1 1 1 1 1 1 1 1 1 1  sum: 23\n",
            "Second partition: \n",
            "23  sum: 23\n",
            "\n",
            "real\t0m0.195s\n",
            "user\t0m0.009s\n",
            "sys\t0m0.124s\n"
          ]
        }
      ]
    },
    {
      "cell_type": "code",
      "source": [
        "%%writefile test_with_no_solution_24.txt\n",
        "24\n",
        "1 1 1 1 1 1 1 1 1 1 1 1 1 1 1 1 1 1 1 1 1 1 1 32"
      ],
      "metadata": {
        "colab": {
          "base_uri": "https://localhost:8080/"
        },
        "id": "secaTyXpgS8M",
        "outputId": "653a6e24-634f-46c1-c02e-7cfdfdbf71df"
      },
      "execution_count": 5,
      "outputs": [
        {
          "output_type": "stream",
          "name": "stdout",
          "text": [
            "Writing test_with_no_solution_24.txt\n"
          ]
        }
      ]
    },
    {
      "cell_type": "code",
      "source": [
        "%%writefile test_with_no_solution_29.txt\n",
        "29\n",
        "1 1 1 1 1 1 1 1 1 1 1 1 1 1 1 1 1 1 1 1 1 1 1 1 1 1 1 1 32"
      ],
      "metadata": {
        "id": "3NLd3QWxof2Z",
        "outputId": "7fd52bb5-13a8-438f-dfbb-fa5a19c6031f",
        "colab": {
          "base_uri": "https://localhost:8080/"
        }
      },
      "execution_count": 6,
      "outputs": [
        {
          "output_type": "stream",
          "name": "stdout",
          "text": [
            "Writing test_with_no_solution_29.txt\n"
          ]
        }
      ]
    },
    {
      "cell_type": "code",
      "source": [
        "!time ./partition_thrust < test_with_no_solution_29.txt"
      ],
      "metadata": {
        "colab": {
          "base_uri": "https://localhost:8080/"
        },
        "id": "IGK6nmLwgYY9",
        "outputId": "ed0eb66e-f8b3-4355-c00c-c36eea301ba5"
      },
      "execution_count": 7,
      "outputs": [
        {
          "output_type": "stream",
          "name": "stdout",
          "text": [
            "Number of subsets to evaluate is : 268435456\n",
            "This instance does not have a solution. \n",
            "\n",
            "real\t0m0.251s\n",
            "user\t0m0.059s\n",
            "sys\t0m0.184s\n"
          ]
        }
      ]
    },
    {
      "cell_type": "code",
      "source": [
        "!nvprof ./partition_thrust < test_with_no_solution_24.txt\n"
      ],
      "metadata": {
        "id": "S39n90Conmox",
        "outputId": "216ed0cc-f7c0-4e68-d43a-3e53ed5af2bd",
        "colab": {
          "base_uri": "https://localhost:8080/"
        }
      },
      "execution_count": 8,
      "outputs": [
        {
          "output_type": "stream",
          "name": "stdout",
          "text": [
            "==1151== NVPROF is profiling process 1151, command: ./partition_thrust\n",
            "Number of subsets to evaluate is : 8388608\n",
            "This instance does not have a solution. \n",
            "==1151== Profiling application: ./partition_thrust\n",
            "==1151== Profiling result:\n",
            "            Type  Time(%)      Time     Calls       Avg       Min       Max  Name\n",
            " GPU activities:   56.91%  777.61us         1  777.61us  777.61us  777.61us  void cub::CUB_200400_750_NS::detail::for_each::static_kernel<cub::CUB_200400_750_NS::detail::for_each::policy_hub_t::policy_350_t, long, thrust::THRUST_200400_750_NS::cuda_cub::__transform::unary_transform_f<thrust::THRUST_200400_750_NS::detail::normal_iterator<thrust::THRUST_200400_750_NS::device_ptr<int>>, thrust::THRUST_200400_750_NS::detail::normal_iterator<thrust::THRUST_200400_750_NS::device_ptr<int>>, thrust::THRUST_200400_750_NS::cuda_cub::__transform::no_stencil_tag, evaluateFunctor, thrust::THRUST_200400_750_NS::cuda_cub::__transform::always_true_predicate>>(long, int)\n",
            "                   21.47%  293.43us         3  97.810us  3.0080us  145.92us  void cub::CUB_200400_750_NS::detail::for_each::static_kernel<cub::CUB_200400_750_NS::detail::for_each::policy_hub_t::policy_350_t, unsigned long, thrust::THRUST_200400_750_NS::cuda_cub::__uninitialized_fill::functor<thrust::THRUST_200400_750_NS::device_ptr<int>, int>>(unsigned long, int)\n",
            "                   10.76%  147.04us         1  147.04us  147.04us  147.04us  void cub::CUB_200400_750_NS::detail::for_each::static_kernel<cub::CUB_200400_750_NS::detail::for_each::policy_hub_t::policy_350_t, long, thrust::THRUST_200400_750_NS::cuda_cub::__tabulate::functor<thrust::THRUST_200400_750_NS::detail::normal_iterator<thrust::THRUST_200400_750_NS::device_ptr<int>>, thrust::THRUST_200400_750_NS::system::detail::generic::detail::compute_sequence_value<int, void>, long>>(long, int)\n",
            "                   10.24%  140.00us         1  140.00us  140.00us  140.00us  void cub::CUB_200400_750_NS::DeviceReduceKernel<cub::CUB_200400_750_NS::DeviceReducePolicy<int, unsigned int, thrust::THRUST_200400_750_NS::maximum<int>>::Policy600, thrust::THRUST_200400_750_NS::detail::normal_iterator<thrust::THRUST_200400_750_NS::device_ptr<int>>, unsigned int, thrust::THRUST_200400_750_NS::maximum<int>, int, cuda::std::__4::__identity>(unsigned int, cub::CUB_200400_750_NS::DeviceReducePolicy<int, unsigned int, thrust::THRUST_200400_750_NS::maximum<int>>::Policy600*, int, cub::CUB_200400_750_NS::GridEvenShare<cub::CUB_200400_750_NS::DeviceReducePolicy<int, unsigned int, thrust::THRUST_200400_750_NS::maximum<int>>::Policy600*>, thrust::THRUST_200400_750_NS::maximum<int>, int)\n",
            "                    0.41%  5.6320us         1  5.6320us  5.6320us  5.6320us  void cub::CUB_200400_750_NS::DeviceReduceSingleTileKernel<cub::CUB_200400_750_NS::DeviceReducePolicy<int, unsigned int, thrust::THRUST_200400_750_NS::maximum<int>>::Policy600, int*, int*, int, thrust::THRUST_200400_750_NS::maximum<int>, int, int, cuda::std::__4::__identity>(unsigned int, int, thrust::THRUST_200400_750_NS::maximum<int>, cub::CUB_200400_750_NS::DeviceReducePolicy<int, unsigned int, thrust::THRUST_200400_750_NS::maximum<int>>::Policy600, int*, int)\n",
            "                    0.15%  2.1120us         1  2.1120us  2.1120us  2.1120us  [CUDA memcpy DtoH]\n",
            "                    0.05%     672ns         1     672ns     672ns     672ns  [CUDA memcpy HtoD]\n",
            "      API calls:   93.93%  91.522ms         4  22.881ms  10.800us  91.281ms  cudaMalloc\n",
            "                    2.35%  2.2896ms         4  572.40us  8.0270us  1.0965ms  cudaFree\n",
            "                    1.41%  1.3721ms         8  171.51us  1.8880us  777.43us  cudaStreamSynchronize\n",
            "                    1.12%  1.0884ms         2  544.19us     930ns  1.0874ms  cudaOccupancyMaxActiveBlocksPerMultiprocessorWithFlags\n",
            "                    0.83%  808.05us         1  808.05us  808.05us  808.05us  cudaFuncGetAttributes\n",
            "                    0.16%  156.30us       114  1.3710us     103ns  70.017us  cuDeviceGetAttribute\n",
            "                    0.11%  104.48us         7  14.925us  7.9040us  36.267us  cudaLaunchKernel\n",
            "                    0.03%  33.262us         1  33.262us  33.262us  33.262us  cuDeviceGetName\n",
            "                    0.03%  32.920us         2  16.460us  10.213us  22.707us  cudaMemcpyAsync\n",
            "                    0.01%  10.036us        77     130ns      81ns  1.7650us  cudaGetLastError\n",
            "                    0.01%  6.7720us         1  6.7720us  6.7720us  6.7720us  cuDeviceGetPCIBusId\n",
            "                    0.01%  5.1460us        10     514ns     210ns  1.2660us  cudaGetDevice\n",
            "                    0.00%  2.2170us         2  1.1080us     550ns  1.6670us  cudaDeviceGetAttribute\n",
            "                    0.00%  2.0310us         3     677ns     173ns  1.5690us  cuDeviceGetCount\n",
            "                    0.00%  1.2820us         9     142ns      84ns     249ns  cudaPeekAtLastError\n",
            "                    0.00%     917ns         2     458ns     201ns     716ns  cuDeviceGet\n",
            "                    0.00%     570ns         1     570ns     570ns     570ns  cuDeviceTotalMem\n",
            "                    0.00%     483ns         1     483ns     483ns     483ns  cuModuleGetLoadingMode\n",
            "                    0.00%     306ns         1     306ns     306ns     306ns  cuDeviceGetUuid\n",
            "                    0.00%     209ns         1     209ns     209ns     209ns  cudaGetDeviceCount\n"
          ]
        }
      ]
    },
    {
      "cell_type": "code",
      "source": [
        "!nvprof ./partition_thrust < test_with_no_solution_29.txt"
      ],
      "metadata": {
        "id": "c7_R2PFOoyya",
        "outputId": "86f7974e-6c0a-419b-a1cc-baf040a6dd25",
        "colab": {
          "base_uri": "https://localhost:8080/"
        }
      },
      "execution_count": 9,
      "outputs": [
        {
          "output_type": "stream",
          "name": "stdout",
          "text": [
            "==1185== NVPROF is profiling process 1185, command: ./partition_thrust\n",
            "Number of subsets to evaluate is : 268435456\n",
            "This instance does not have a solution. \n",
            "==1185== Profiling application: ./partition_thrust\n",
            "==1185== Profiling result:\n",
            "            Type  Time(%)      Time     Calls       Avg       Min       Max  Name\n",
            " GPU activities:   61.27%  29.316ms         1  29.316ms  29.316ms  29.316ms  void cub::CUB_200400_750_NS::detail::for_each::static_kernel<cub::CUB_200400_750_NS::detail::for_each::policy_hub_t::policy_350_t, long, thrust::THRUST_200400_750_NS::cuda_cub::__transform::unary_transform_f<thrust::THRUST_200400_750_NS::detail::normal_iterator<thrust::THRUST_200400_750_NS::device_ptr<int>>, thrust::THRUST_200400_750_NS::detail::normal_iterator<thrust::THRUST_200400_750_NS::device_ptr<int>>, thrust::THRUST_200400_750_NS::cuda_cub::__transform::no_stencil_tag, evaluateFunctor, thrust::THRUST_200400_750_NS::cuda_cub::__transform::always_true_predicate>>(long, int)\n",
            "                   19.33%  9.2499ms         3  3.0833ms  3.0080us  4.6247ms  void cub::CUB_200400_750_NS::detail::for_each::static_kernel<cub::CUB_200400_750_NS::detail::for_each::policy_hub_t::policy_350_t, unsigned long, thrust::THRUST_200400_750_NS::cuda_cub::__uninitialized_fill::functor<thrust::THRUST_200400_750_NS::device_ptr<int>, int>>(unsigned long, int)\n",
            "                    9.72%  4.6485ms         1  4.6485ms  4.6485ms  4.6485ms  void cub::CUB_200400_750_NS::DeviceReduceKernel<cub::CUB_200400_750_NS::DeviceReducePolicy<int, unsigned int, thrust::THRUST_200400_750_NS::maximum<int>>::Policy600, thrust::THRUST_200400_750_NS::detail::normal_iterator<thrust::THRUST_200400_750_NS::device_ptr<int>>, unsigned int, thrust::THRUST_200400_750_NS::maximum<int>, int, cuda::std::__4::__identity>(unsigned int, cub::CUB_200400_750_NS::DeviceReducePolicy<int, unsigned int, thrust::THRUST_200400_750_NS::maximum<int>>::Policy600*, int, cub::CUB_200400_750_NS::GridEvenShare<cub::CUB_200400_750_NS::DeviceReducePolicy<int, unsigned int, thrust::THRUST_200400_750_NS::maximum<int>>::Policy600*>, thrust::THRUST_200400_750_NS::maximum<int>, int)\n",
            "                    9.66%  4.6233ms         1  4.6233ms  4.6233ms  4.6233ms  void cub::CUB_200400_750_NS::detail::for_each::static_kernel<cub::CUB_200400_750_NS::detail::for_each::policy_hub_t::policy_350_t, long, thrust::THRUST_200400_750_NS::cuda_cub::__tabulate::functor<thrust::THRUST_200400_750_NS::detail::normal_iterator<thrust::THRUST_200400_750_NS::device_ptr<int>>, thrust::THRUST_200400_750_NS::system::detail::generic::detail::compute_sequence_value<int, void>, long>>(long, int)\n",
            "                    0.01%  5.8560us         1  5.8560us  5.8560us  5.8560us  void cub::CUB_200400_750_NS::DeviceReduceSingleTileKernel<cub::CUB_200400_750_NS::DeviceReducePolicy<int, unsigned int, thrust::THRUST_200400_750_NS::maximum<int>>::Policy600, int*, int*, int, thrust::THRUST_200400_750_NS::maximum<int>, int, int, cuda::std::__4::__identity>(unsigned int, int, thrust::THRUST_200400_750_NS::maximum<int>, cub::CUB_200400_750_NS::DeviceReducePolicy<int, unsigned int, thrust::THRUST_200400_750_NS::maximum<int>>::Policy600, int*, int)\n",
            "                    0.01%  3.0080us         1  3.0080us  3.0080us  3.0080us  [CUDA memcpy DtoH]\n",
            "                    0.00%     672ns         1     672ns     672ns     672ns  [CUDA memcpy HtoD]\n",
            "      API calls:   64.86%  97.682ms         4  24.420ms  22.366us  97.321ms  cudaMalloc\n",
            "                   31.78%  47.862ms         8  5.9827ms  1.9490us  29.326ms  cudaStreamSynchronize\n",
            "                    2.52%  3.8002ms         4  950.04us  9.4390us  2.6090ms  cudaFree\n",
            "                    0.53%  803.98us         1  803.98us  803.98us  803.98us  cudaFuncGetAttributes\n",
            "                    0.14%  210.90us       114  1.8500us     144ns  81.668us  cuDeviceGetAttribute\n",
            "                    0.09%  130.82us         7  18.688us  9.2070us  33.689us  cudaLaunchKernel\n",
            "                    0.03%  41.854us         2  20.927us  10.030us  31.824us  cudaMemcpyAsync\n",
            "                    0.01%  18.800us         1  18.800us  18.800us  18.800us  cuDeviceGetName\n",
            "                    0.01%  15.727us         2  7.8630us     625ns  15.102us  cudaOccupancyMaxActiveBlocksPerMultiprocessorWithFlags\n",
            "                    0.01%  8.5460us         1  8.5460us  8.5460us  8.5460us  cuDeviceGetPCIBusId\n",
            "                    0.01%  8.4710us        77     110ns      82ns     577ns  cudaGetLastError\n",
            "                    0.00%  7.1850us        10     718ns     226ns  1.7400us  cudaGetDevice\n",
            "                    0.00%  3.3650us         3  1.1210us     210ns  2.7270us  cuDeviceGetCount\n",
            "                    0.00%  2.4410us         2  1.2200us     347ns  2.0940us  cudaDeviceGetAttribute\n",
            "                    0.00%  1.3800us         9     153ns      84ns     237ns  cudaPeekAtLastError\n",
            "                    0.00%  1.1940us         2     597ns     209ns     985ns  cuDeviceGet\n",
            "                    0.00%     648ns         1     648ns     648ns     648ns  cuDeviceTotalMem\n",
            "                    0.00%     579ns         1     579ns     579ns     579ns  cuModuleGetLoadingMode\n",
            "                    0.00%     375ns         1     375ns     375ns     375ns  cuDeviceGetUuid\n",
            "                    0.00%     214ns         1     214ns     214ns     214ns  cudaGetDeviceCount\n"
          ]
        }
      ]
    }
  ]
}