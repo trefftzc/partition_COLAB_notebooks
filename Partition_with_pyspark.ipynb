{
  "nbformat": 4,
  "nbformat_minor": 0,
  "metadata": {
    "colab": {
      "provenance": [],
      "authorship_tag": "ABX9TyOtyG6DCtJZObNb/ELvTha+",
      "include_colab_link": true
    },
    "kernelspec": {
      "name": "python3",
      "display_name": "Python 3"
    },
    "language_info": {
      "name": "python"
    }
  },
  "cells": [
    {
      "cell_type": "markdown",
      "metadata": {
        "id": "view-in-github",
        "colab_type": "text"
      },
      "source": [
        "<a href=\"https://colab.research.google.com/github/trefftzc/partition_COLAB_notebooks/blob/main/Partition_with_pyspark.ipynb\" target=\"_parent\"><img src=\"https://colab.research.google.com/assets/colab-badge.svg\" alt=\"Open In Colab\"/></a>"
      ]
    },
    {
      "cell_type": "markdown",
      "source": [
        "# Solving a small instance of the partition problem with PySpark\n",
        "\n",
        "The multiset will be hardcoded.\n",
        "The size of the problem is 10.\n",
        "2^10 is 1024"
      ],
      "metadata": {
        "id": "ykP-2C4STM0S"
      }
    },
    {
      "cell_type": "code",
      "source": [
        "!ls\n"
      ],
      "metadata": {
        "id": "G_PbzGCvD4oQ",
        "outputId": "b052aa52-4b45-4f13-d5f2-696d67d1fb3c",
        "colab": {
          "base_uri": "https://localhost:8080/"
        }
      },
      "execution_count": null,
      "outputs": [
        {
          "output_type": "stream",
          "name": "stdout",
          "text": [
            "sample_data\n"
          ]
        }
      ]
    },
    {
      "cell_type": "markdown",
      "source": [
        "Create a SparkContext to be able to execute."
      ],
      "metadata": {
        "id": "YDZBbM8lSmQ0"
      }
    },
    {
      "cell_type": "code",
      "source": [
        "!apt-get update -qq > /dev/null\n",
        "!apt-get install openjdk-8-jdk-headless -qq > /dev/null\n",
        "!wget -q https://dlcdn.apache.org/spark/spark-3.5.1/spark-3.5.1-bin-hadoop3.tgz\n",
        "!tar xf spark-3.5.1-bin-hadoop3.tgz\n",
        "!pip install -q findspark\n",
        "\n",
        "import os\n",
        "os.environ[\"JAVA_HOME\"] = \"/usr/lib/jvm/java-8-openjdk-amd64\"\n",
        "os.environ[\"SPARK_HOME\"] = \"/content/spark-3.5.1-bin-hadoop3\"\n",
        "\n",
        "import findspark\n",
        "findspark.init()\n",
        "\n",
        "from pyspark import SparkContext, SparkConf\n",
        "\n",
        "spark_conf = SparkConf()\\\n",
        "  .setAppName(\"YourTest\")\\\n",
        "  .setMaster(\"local[2]\")\n",
        "\n",
        "sc = SparkContext.getOrCreate(spark_conf)"
      ],
      "metadata": {
        "id": "gH3t4ZpnSnZh"
      },
      "execution_count": null,
      "outputs": []
    },
    {
      "cell_type": "markdown",
      "source": [],
      "metadata": {
        "id": "HfgQ-FJdTJi0"
      }
    },
    {
      "cell_type": "code",
      "source": [
        "sc"
      ],
      "metadata": {
        "colab": {
          "base_uri": "https://localhost:8080/",
          "height": 198
        },
        "id": "pQ8SvSkwSuWi",
        "outputId": "8c074842-7091-4ac4-9f2b-c5adb64007ba"
      },
      "execution_count": null,
      "outputs": [
        {
          "output_type": "execute_result",
          "data": {
            "text/plain": [
              "<SparkContext master=local[2] appName=YourTest>"
            ],
            "text/html": [
              "\n",
              "        <div>\n",
              "            <p><b>SparkContext</b></p>\n",
              "\n",
              "            <p><a href=\"http://042f1c8e665f:4040\">Spark UI</a></p>\n",
              "\n",
              "            <dl>\n",
              "              <dt>Version</dt>\n",
              "                <dd><code>v3.5.1</code></dd>\n",
              "              <dt>Master</dt>\n",
              "                <dd><code>local[2]</code></dd>\n",
              "              <dt>AppName</dt>\n",
              "                <dd><code>YourTest</code></dd>\n",
              "            </dl>\n",
              "        </div>\n",
              "        "
            ]
          },
          "metadata": {},
          "execution_count": 50
        }
      ]
    },
    {
      "cell_type": "markdown",
      "source": [
        "Start by creating a list that contains the numbers between 1 and 1024"
      ],
      "metadata": {
        "id": "GQc5rpkuSxyc"
      }
    },
    {
      "cell_type": "code",
      "source": [
        "nums = list(range(1, 1024))\n",
        "len(nums)"
      ],
      "metadata": {
        "colab": {
          "base_uri": "https://localhost:8080/"
        },
        "id": "EIcA76hESzan",
        "outputId": "6b1c9570-848d-46bd-cc3e-392d8a2e9198"
      },
      "execution_count": null,
      "outputs": [
        {
          "output_type": "execute_result",
          "data": {
            "text/plain": [
              "1023"
            ]
          },
          "metadata": {},
          "execution_count": 51
        }
      ]
    },
    {
      "cell_type": "markdown",
      "source": [
        "Now create an RDD (Resilient Distributed Dataset)"
      ],
      "metadata": {
        "id": "hRGoU6H2UGwq"
      }
    },
    {
      "cell_type": "code",
      "source": [
        "nums_rdd = sc.parallelize(nums)"
      ],
      "metadata": {
        "id": "gUYqyfPcUKHi"
      },
      "execution_count": null,
      "outputs": []
    },
    {
      "cell_type": "code",
      "source": [
        "nums_rdd.take(5)"
      ],
      "metadata": {
        "colab": {
          "base_uri": "https://localhost:8080/"
        },
        "id": "aRSMTHEuUNDi",
        "outputId": "828086fe-5eba-4fa0-be48-2ae7dd103afe"
      },
      "execution_count": null,
      "outputs": [
        {
          "output_type": "execute_result",
          "data": {
            "text/plain": [
              "[1, 2, 3, 4, 5]"
            ]
          },
          "metadata": {},
          "execution_count": 5
        }
      ]
    },
    {
      "cell_type": "markdown",
      "source": [
        "Define the function that determines if a number encodes a partition that is a solution to the problem or not.\n",
        "The array for the instance of the problem is hardcoded here."
      ],
      "metadata": {
        "id": "mtNux3ugS2w_"
      }
    },
    {
      "cell_type": "code",
      "source": [
        "def evaluatePartition(  value ) :\n",
        "   array = [1,1,1,1,1,1,1,1,1,9]\n",
        "   n = 10\n",
        "   sum0s = 0\n",
        "   sum1s = 0\n",
        "   mask = 1\n",
        "   for i in range(0,n):\n",
        "     if ((mask & value) != 0):\n",
        "       sum1s = sum1s + array[i]\n",
        "     else:\n",
        "       sum0s = sum0s + array[i]\n",
        "     mask = mask * 2\n",
        "\n",
        "   if (sum0s == sum1s):\n",
        "     return value\n",
        "   else:\n",
        "     return 0"
      ],
      "metadata": {
        "id": "96TcgL-FS8d-"
      },
      "execution_count": null,
      "outputs": []
    },
    {
      "cell_type": "code",
      "source": [
        "print(evaluatePartition(1))"
      ],
      "metadata": {
        "colab": {
          "base_uri": "https://localhost:8080/"
        },
        "id": "6reaBQu-T3dC",
        "outputId": "827953c3-c654-4839-fb4f-9c977d3fba37"
      },
      "execution_count": null,
      "outputs": [
        {
          "output_type": "stream",
          "name": "stdout",
          "text": [
            "0\n"
          ]
        }
      ]
    },
    {
      "cell_type": "markdown",
      "source": [
        "Now apply the function evaluatePartition to the nums_rdd and store the results in a different rdd:"
      ],
      "metadata": {
        "id": "IaGrDG40UAN8"
      }
    },
    {
      "cell_type": "code",
      "source": [
        "result_rdd = nums_rdd.map(evaluatePartition)"
      ],
      "metadata": {
        "id": "KF8NKDhGUScJ"
      },
      "execution_count": null,
      "outputs": []
    },
    {
      "cell_type": "markdown",
      "source": [
        "Finally, find if any entry turned to be different from 0, a solution"
      ],
      "metadata": {
        "id": "21AoW-VpUZFF"
      }
    },
    {
      "cell_type": "code",
      "source": [
        "from operator import add\n",
        "sol = result_rdd.reduce(max)\n",
        "if sol == 0:\n",
        "  print(\"This instance of the partition problem does not have a solution\")\n",
        "else:\n",
        "  print(\"This instance of the partition problem does have a solution.\")\n",
        "print(sol)"
      ],
      "metadata": {
        "colab": {
          "base_uri": "https://localhost:8080/"
        },
        "id": "uO2eMZhoUg9a",
        "outputId": "3c741773-7f75-4259-a94e-b41ea0251ea1"
      },
      "execution_count": null,
      "outputs": [
        {
          "output_type": "stream",
          "name": "stdout",
          "text": [
            "This instance of the partition problem does have a solution.\n",
            "512\n"
          ]
        }
      ]
    }
  ]
}