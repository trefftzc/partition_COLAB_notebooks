{
  "nbformat": 4,
  "nbformat_minor": 0,
  "metadata": {
    "colab": {
      "provenance": [],
      "authorship_tag": "ABX9TyMd74fbpNTLMKB7YP3uql0P",
      "include_colab_link": true
    },
    "kernelspec": {
      "name": "python3",
      "display_name": "Python 3"
    },
    "language_info": {
      "name": "python"
    }
  },
  "cells": [
    {
      "cell_type": "markdown",
      "metadata": {
        "id": "view-in-github",
        "colab_type": "text"
      },
      "source": [
        "<a href=\"https://colab.research.google.com/github/trefftzc/partition_COLAB_notebooks/blob/main/Partition_with_pyspark.ipynb\" target=\"_parent\"><img src=\"https://colab.research.google.com/assets/colab-badge.svg\" alt=\"Open In Colab\"/></a>"
      ]
    },
    {
      "cell_type": "markdown",
      "source": [
        "# Solving a small instance of the partition problem with PySpark\n",
        "\n",
        "The multiset will be hardcoded.\n",
        "The size of the problem is 10.\n",
        "2^10 is 1024"
      ],
      "metadata": {
        "id": "ykP-2C4STM0S"
      }
    },
    {
      "cell_type": "code",
      "source": [
        "!ls /content/\n"
      ],
      "metadata": {
        "id": "G_PbzGCvD4oQ",
        "outputId": "c5bb6855-192b-4a45-a64e-6ca1f25bd463",
        "colab": {
          "base_uri": "https://localhost:8080/"
        }
      },
      "execution_count": 6,
      "outputs": [
        {
          "output_type": "stream",
          "name": "stdout",
          "text": [
            "sample_data\n"
          ]
        }
      ]
    },
    {
      "cell_type": "markdown",
      "source": [
        "Create a SparkContext to be able to execute."
      ],
      "metadata": {
        "id": "YDZBbM8lSmQ0"
      }
    },
    {
      "cell_type": "code",
      "source": [
        "#!apt-get update -qq > /dev/null\n",
        "#!apt-get install openjdk-8-jdk-headless -qq > /dev/null\n",
        "!wget -q https://dlcdn.apache.org/spark/spark-3.5.3/spark-3.5.3-bin-hadoop3.tgz\n",
        "!tar xf spark-3.5.3-bin-hadoop3.tgz\n",
        "!pip install -q findspark\n",
        "\n",
        "import os\n",
        "import sys\n",
        "os.environ[\"JAVA_HOME\"] = \"/usr/lib/jvm/java-8-openjdk-amd64\"\n",
        "os.environ[\"SPARK_HOME\"] = \"/content/spark-3.5.3-bin-hadoop3\"\n",
        "\n",
        "\n",
        "import findspark\n",
        "findspark.init()\n",
        "findspark.find()\n",
        "\n",
        "import pyspark\n",
        "\n",
        "from pyspark.sql import DataFrame, SparkSession\n",
        "from typing import List\n",
        "import pyspark.sql.types as T\n",
        "import pyspark.sql.functions as F\n",
        "\n",
        "spark= SparkSession \\\n",
        "       .builder \\\n",
        "       .appName(\"Our First Spark Example\") \\\n",
        "       .getOrCreate()\n",
        "\n",
        "from pyspark import SparkContext, SparkConf\n",
        "\n",
        "spark_conf = SparkConf()\\\n",
        "  .setAppName(\"YourTest\")\\\n",
        "  .setMaster(\"local[2]\")\n",
        "\n",
        "sc = SparkContext.getOrCreate(spark_conf)\n"
      ],
      "metadata": {
        "id": "gH3t4ZpnSnZh"
      },
      "execution_count": 7,
      "outputs": []
    },
    {
      "cell_type": "markdown",
      "source": [],
      "metadata": {
        "id": "HfgQ-FJdTJi0"
      }
    },
    {
      "cell_type": "code",
      "source": [
        "spark"
      ],
      "metadata": {
        "colab": {
          "base_uri": "https://localhost:8080/",
          "height": 219
        },
        "id": "pQ8SvSkwSuWi",
        "outputId": "26c66ac3-ffc6-4097-81b6-7a8398b750a9"
      },
      "execution_count": 8,
      "outputs": [
        {
          "output_type": "execute_result",
          "data": {
            "text/plain": [
              "<pyspark.sql.session.SparkSession at 0x7bbd13bb5e40>"
            ],
            "text/html": [
              "\n",
              "            <div>\n",
              "                <p><b>SparkSession - in-memory</b></p>\n",
              "                \n",
              "        <div>\n",
              "            <p><b>SparkContext</b></p>\n",
              "\n",
              "            <p><a href=\"http://7686f2b66ea6:4040\">Spark UI</a></p>\n",
              "\n",
              "            <dl>\n",
              "              <dt>Version</dt>\n",
              "                <dd><code>v3.5.3</code></dd>\n",
              "              <dt>Master</dt>\n",
              "                <dd><code>local[*]</code></dd>\n",
              "              <dt>AppName</dt>\n",
              "                <dd><code>Our First Spark Example</code></dd>\n",
              "            </dl>\n",
              "        </div>\n",
              "        \n",
              "            </div>\n",
              "        "
            ]
          },
          "metadata": {},
          "execution_count": 8
        }
      ]
    },
    {
      "cell_type": "markdown",
      "source": [
        "Start by creating a list that contains the numbers between 1 and 1024"
      ],
      "metadata": {
        "id": "GQc5rpkuSxyc"
      }
    },
    {
      "cell_type": "code",
      "source": [
        "nums = list(range(1, 1024))\n",
        "len(nums)"
      ],
      "metadata": {
        "colab": {
          "base_uri": "https://localhost:8080/"
        },
        "id": "EIcA76hESzan",
        "outputId": "529269fe-37f2-4df2-fb51-422f38771916"
      },
      "execution_count": 9,
      "outputs": [
        {
          "output_type": "execute_result",
          "data": {
            "text/plain": [
              "1023"
            ]
          },
          "metadata": {},
          "execution_count": 9
        }
      ]
    },
    {
      "cell_type": "markdown",
      "source": [
        "Now create an RDD (Resilient Distributed Dataset)"
      ],
      "metadata": {
        "id": "hRGoU6H2UGwq"
      }
    },
    {
      "cell_type": "code",
      "source": [
        "nums_rdd = sc.parallelize(nums)"
      ],
      "metadata": {
        "id": "gUYqyfPcUKHi"
      },
      "execution_count": 10,
      "outputs": []
    },
    {
      "cell_type": "code",
      "source": [
        "nums_rdd.take(5)"
      ],
      "metadata": {
        "colab": {
          "base_uri": "https://localhost:8080/"
        },
        "id": "aRSMTHEuUNDi",
        "outputId": "13a9f906-69ef-42b2-f2bc-60b7c6366e80"
      },
      "execution_count": 11,
      "outputs": [
        {
          "output_type": "execute_result",
          "data": {
            "text/plain": [
              "[1, 2, 3, 4, 5]"
            ]
          },
          "metadata": {},
          "execution_count": 11
        }
      ]
    },
    {
      "cell_type": "markdown",
      "source": [
        "Define the function that determines if a number encodes a partition that is a solution to the problem or not.\n",
        "The array for the instance of the problem is hardcoded here."
      ],
      "metadata": {
        "id": "mtNux3ugS2w_"
      }
    },
    {
      "cell_type": "code",
      "source": [
        "def evaluatePartition(  value ) :\n",
        "   array = [1,1,1,1,1,1,1,1,1,9]\n",
        "   n = 10\n",
        "   sum0s = 0\n",
        "   sum1s = 0\n",
        "   mask = 1\n",
        "   for i in range(0,n):\n",
        "     if ((mask & value) != 0):\n",
        "       sum1s = sum1s + array[i]\n",
        "     else:\n",
        "       sum0s = sum0s + array[i]\n",
        "     mask = mask * 2\n",
        "\n",
        "   if (sum0s == sum1s):\n",
        "     return value\n",
        "   else:\n",
        "     return 0"
      ],
      "metadata": {
        "id": "96TcgL-FS8d-"
      },
      "execution_count": 12,
      "outputs": []
    },
    {
      "cell_type": "code",
      "source": [
        "print(evaluatePartition(1))"
      ],
      "metadata": {
        "colab": {
          "base_uri": "https://localhost:8080/"
        },
        "id": "6reaBQu-T3dC",
        "outputId": "c4c7144d-da11-4ae9-992a-0b7e26801210"
      },
      "execution_count": 13,
      "outputs": [
        {
          "output_type": "stream",
          "name": "stdout",
          "text": [
            "0\n"
          ]
        }
      ]
    },
    {
      "cell_type": "markdown",
      "source": [
        "Now apply the function evaluatePartition to the nums_rdd and store the results in a different rdd:"
      ],
      "metadata": {
        "id": "IaGrDG40UAN8"
      }
    },
    {
      "cell_type": "code",
      "source": [
        "result_rdd = nums_rdd.map(evaluatePartition)"
      ],
      "metadata": {
        "id": "KF8NKDhGUScJ"
      },
      "execution_count": 14,
      "outputs": []
    },
    {
      "cell_type": "markdown",
      "source": [
        "Finally, find if any entry turned to be different from 0, a solution"
      ],
      "metadata": {
        "id": "21AoW-VpUZFF"
      }
    },
    {
      "cell_type": "code",
      "source": [
        "from operator import add\n",
        "sol = result_rdd.reduce(max)\n",
        "if sol == 0:\n",
        "  print(\"This instance of the partition problem does not have a solution\")\n",
        "else:\n",
        "  print(\"This instance of the partition problem does have a solution.\")\n",
        "print(sol)"
      ],
      "metadata": {
        "colab": {
          "base_uri": "https://localhost:8080/"
        },
        "id": "uO2eMZhoUg9a",
        "outputId": "696cc022-2a14-4593-e810-204d6b75e049"
      },
      "execution_count": 15,
      "outputs": [
        {
          "output_type": "stream",
          "name": "stdout",
          "text": [
            "This instance of the partition problem does have a solution.\n",
            "512\n"
          ]
        }
      ]
    }
  ]
}